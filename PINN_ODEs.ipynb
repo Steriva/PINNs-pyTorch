{
  "nbformat": 4,
  "nbformat_minor": 0,
  "metadata": {
    "colab": {
      "provenance": [],
      "collapsed_sections": [],
      "authorship_tag": "ABX9TyN4mBCD0lZPfrTKT3+EkN4a",
      "include_colab_link": true
    },
    "kernelspec": {
      "name": "python3",
      "display_name": "Python 3"
    },
    "language_info": {
      "name": "python"
    }
  },
  "cells": [
    {
      "cell_type": "markdown",
      "metadata": {
        "id": "view-in-github",
        "colab_type": "text"
      },
      "source": [
        "<a href=\"https://colab.research.google.com/github/Steriva/PINNs-pyTorch/blob/master/PINN_ODEs.ipynb\" target=\"_parent\"><img src=\"https://colab.research.google.com/assets/colab-badge.svg\" alt=\"Open In Colab\"/></a>"
      ]
    },
    {
      "cell_type": "markdown",
      "source": [
        "# Physics-Informed Neural Network for parametric ODEs\n",
        "This notebook implements the basic tools using *pyTorch* to build from scratch a PINN for an ODE, i.e.\n",
        "\\begin{equation}\n",
        "\\frac{d f}{dt}=R\\cdot t(1-t)\n",
        "\\end{equation}\n",
        "given $f(0)=1$. The package for Automatic Differentiation (AD) is used to compute derivatives (AD is actually what made neural networks so efficient and successful in the first place).\n",
        "\n",
        "This notebook is based on [Mario Dagrada's Tutorial](https://towardsdatascience.com/solving-differential-equations-with-neural-networks-afdcf7b8bcc4).\n",
        "\n",
        "At first, a PINN class is defined for the topology of the net: it it takes as input the number of layers (excluding input) and the hidden dimension of the layers, the activation is by default an hyperbolic tangent, even though it can be changed."
      ],
      "metadata": {
        "id": "IsKbYCkndo2Q"
      }
    },
    {
      "cell_type": "code",
      "source": [
        "import torch\n",
        "import numpy as np\n",
        "\n",
        "if torch.cuda.is_available():\n",
        "    device = torch.device('cuda')\n",
        "else:\n",
        "    device = torch.device('cpu')"
      ],
      "metadata": {
        "id": "paxOf-b-grYP"
      },
      "execution_count": 1,
      "outputs": []
    },
    {
      "cell_type": "code",
      "execution_count": 2,
      "metadata": {
        "id": "ZmRjUHO0dnzS"
      },
      "outputs": [],
      "source": [
        "from torch import nn\n",
        "from collections import OrderedDict\n",
        "\n",
        "class NeuralNet(nn.Module):\n",
        "    \"\"\"Simple neural network accepting one feature as input and returning a single output\n",
        "    \n",
        "    In the context of PINNs, the neural network is used as universal function approximator\n",
        "    to approximate the solution of the differential equation\n",
        "    \"\"\"    \n",
        "    def __init__(self, layers: list, act=nn.Tanh()):\n",
        "        super(NeuralNet, self).__init__()\n",
        "\n",
        "        # parameters\n",
        "        self.depth = len(layers) - 1\n",
        "        \n",
        "        # set up layer order dict\n",
        "        self.activation = nn.Tanh\n",
        "        \n",
        "        layer_list = list()\n",
        "        for i in range(self.depth - 1): \n",
        "            layer_list.append(\n",
        "                ('layer_%d' % i, nn.Linear(layers[i], layers[i+1]))\n",
        "            )\n",
        "            layer_list.append(('activation_%d' % i, self.activation()))\n",
        "            \n",
        "        layer_list.append(\n",
        "            ('layer_%d' % (self.depth - 1), nn.Linear(layers[-2], layers[-1]))\n",
        "        )\n",
        "        layerDict = OrderedDict(layer_list)\n",
        "        \n",
        "        # deploy layers\n",
        "        self.layers = nn.Sequential(layerDict)\n",
        "\n",
        "    def forward(self, x):\n",
        "        return self.layers(x)\n",
        "        "
      ]
    },
    {
      "cell_type": "code",
      "source": [
        "from typing import Callable\n",
        "\n",
        "def f(nn: NeuralNet, x: torch.Tensor) -> torch.Tensor:\n",
        "    \"\"\"Compute the value of the approximate solution from the NN model\"\"\"\n",
        "    return nn(x)\n",
        "\n",
        "\n",
        "def df(nn: NeuralNet, x: torch.Tensor = None, order: int = 1) -> torch.Tensor:\n",
        "    \"\"\"Compute neural network derivative with respect to input features using PyTorch autograd engine\"\"\"\n",
        "    df_value = f(nn, x)\n",
        "    for _ in range(order):\n",
        "        df_value = torch.autograd.grad(\n",
        "            df_value,\n",
        "            x,\n",
        "            grad_outputs=torch.ones_like(x),\n",
        "            create_graph=True,\n",
        "            retain_graph=True,\n",
        "        )[0]\n",
        "\n",
        "    return df_value\n",
        "\n",
        "\n",
        "def compute_loss(\n",
        "    nn: NeuralNet, x: torch.Tensor = None, verbose: bool = False\n",
        ") -> torch.float:\n",
        "    \"\"\"Compute the full loss function as interior loss + boundary loss\n",
        "    This custom loss function is fully defined with differentiable tensors therefore\n",
        "    the .backward() method can be applied to it\n",
        "    \"\"\"\n",
        "\n",
        "    interior_loss = df(nn, x) - 1. * x**2 * (1 - x)\n",
        "\n",
        "    boundary = torch.Tensor([0.0])\n",
        "    boundary.requires_grad = True\n",
        "    boundary_loss = f(nn, boundary) - 1.\n",
        "    final_loss = interior_loss.pow(2).mean() + boundary_loss ** 2\n",
        "    return final_loss, interior_loss.pow(2).mean(), boundary_loss ** 2\n",
        "\n",
        "\n",
        "def train_model(\n",
        "    nn: NeuralNet,\n",
        "    loss_fn: Callable,\n",
        "    learning_rate: int = 0.01,\n",
        "    max_epochs: int = 1_000,\n",
        ") -> NeuralNet:\n",
        "\n",
        "    loss_evolution = []\n",
        "\n",
        "    optimizer = torch.optim.SGD(nn.parameters(), lr=learning_rate)\n",
        "    for epoch in range(max_epochs):\n",
        "\n",
        "        try:\n",
        "\n",
        "            loss, residual_loss, boundary_loss = loss_fn(nn)\n",
        "            optimizer.zero_grad()\n",
        "            loss.backward()\n",
        "            optimizer.step()\n",
        "\n",
        "            if epoch % 1000 == 0:\n",
        "                print(f'Iter {epoch+0:06} | Loss: {float(loss):.3e} | Residual: {float(residual_loss):.3e} | Boundary: {float(boundary_loss):.3e}')\n",
        "            loss_evolution.append(loss.detach().numpy())\n",
        "\n",
        "        except KeyboardInterrupt:\n",
        "            break\n",
        "\n",
        "    return nn, np.array(loss_evolution)"
      ],
      "metadata": {
        "id": "oGQZnWghgG1Y"
      },
      "execution_count": 3,
      "outputs": []
    },
    {
      "cell_type": "code",
      "source": [
        "from functools import partial\n",
        "\n",
        "domain = [0.0, 1.0]\n",
        "x = torch.linspace(domain[0], domain[1], steps=20, requires_grad=True)\n",
        "x = x.reshape(x.shape[0], 1)\n",
        "\n",
        "\n",
        "layers = [1, 10, 10, 10, 1]\n",
        "nn_approximator = NeuralNet(layers)\n",
        "loss_fn = partial(compute_loss, x=x, verbose=True)\n",
        "nn_approximator_trained, loss_evolution = train_model(\n",
        "    nn_approximator, loss_fn=loss_fn, learning_rate=0.1, max_epochs=20_000\n",
        ")"
      ],
      "metadata": {
        "colab": {
          "base_uri": "https://localhost:8080/"
        },
        "id": "3xY1Emilnaea",
        "outputId": "1fe42038-a664-47d3-9a8e-7e56867ea2c4"
      },
      "execution_count": 4,
      "outputs": [
        {
          "output_type": "stream",
          "name": "stdout",
          "text": [
            "Iter 000000 | Loss: 8.351e-01 | Residual: 3.497e-02 | Boundary: 8.001e-01\n",
            "Iter 001000 | Loss: 1.269e-03 | Residual: 1.269e-03 | Boundary: 3.553e-11\n",
            "Iter 002000 | Loss: 8.857e-04 | Residual: 8.857e-04 | Boundary: 4.229e-10\n",
            "Iter 003000 | Loss: 7.334e-04 | Residual: 7.334e-04 | Boundary: 1.478e-10\n",
            "Iter 004000 | Loss: 6.623e-04 | Residual: 6.623e-04 | Boundary: 1.083e-09\n",
            "Iter 005000 | Loss: 5.872e-04 | Residual: 5.872e-04 | Boundary: 1.701e-09\n",
            "Iter 006000 | Loss: 5.019e-04 | Residual: 5.019e-04 | Boundary: 2.285e-09\n",
            "Iter 007000 | Loss: 4.085e-04 | Residual: 4.085e-04 | Boundary: 2.955e-09\n",
            "Iter 008000 | Loss: 3.122e-04 | Residual: 3.122e-04 | Boundary: 3.567e-09\n",
            "Iter 009000 | Loss: 2.214e-04 | Residual: 2.214e-04 | Boundary: 3.843e-09\n",
            "Iter 010000 | Loss: 1.451e-04 | Residual: 1.451e-04 | Boundary: 3.524e-09\n",
            "Iter 011000 | Loss: 8.929e-05 | Residual: 8.929e-05 | Boundary: 2.714e-09\n",
            "Iter 012000 | Loss: 5.410e-05 | Residual: 5.410e-05 | Boundary: 1.761e-09\n",
            "Iter 013000 | Loss: 3.482e-05 | Residual: 3.482e-05 | Boundary: 1.006e-09\n",
            "Iter 014000 | Loss: 2.534e-05 | Residual: 2.534e-05 | Boundary: 5.293e-10\n",
            "Iter 015000 | Loss: 2.091e-05 | Residual: 2.091e-05 | Boundary: 2.706e-10\n",
            "Iter 016000 | Loss: 1.877e-05 | Residual: 1.877e-05 | Boundary: 1.478e-10\n",
            "Iter 017000 | Loss: 1.758e-05 | Residual: 1.758e-05 | Boundary: 8.646e-11\n",
            "Iter 018000 | Loss: 1.678e-05 | Residual: 1.678e-05 | Boundary: 5.640e-11\n",
            "Iter 019000 | Loss: 1.616e-05 | Residual: 1.616e-05 | Boundary: 4.144e-11\n"
          ]
        }
      ]
    },
    {
      "cell_type": "code",
      "source": [
        "x_eval = torch.linspace(domain[0], domain[1], steps=100).reshape(-1, 1)\n",
        "\n",
        "# numeric solution\n",
        "def logistic_eq_fn(x, y):\n",
        "    return 1. * x**2 * (1 - x)\n",
        "\n",
        "from scipy.integrate import solve_ivp\n",
        "import time\n",
        "\n",
        "numerical_time = time.time()\n",
        "numeric_solution = solve_ivp(\n",
        "    logistic_eq_fn, domain, [1.], t_eval=x_eval.squeeze().detach().numpy()\n",
        ")\n",
        "numerical_time = time.time() - numerical_time\n",
        "\n",
        "import matplotlib.pyplot as plt\n",
        "\n",
        "PINN_time = time.time()\n",
        "f_final_training = f(nn_approximator_trained, x)\n",
        "f_final = f(nn_approximator_trained, x_eval)\n",
        "PINN_time = time.time() - PINN_time\n",
        "\n",
        "plt.scatter(x.detach().numpy(), f_final_training.detach().numpy(), label=\"Training points\", color=\"b\")\n",
        "\n",
        "plt.plot(x_eval, f_final.detach().numpy(),'b', label='PINN')\n",
        "\n",
        "plt.plot(x_eval, numeric_solution.y.T, 'r--', label = 'Numerical')\n",
        "\n",
        "plt.legend()\n",
        "plt.grid(which='major',linestyle='-')\n",
        "plt.grid(which='minor',linestyle='--')"
      ],
      "metadata": {
        "colab": {
          "base_uri": "https://localhost:8080/",
          "height": 265
        },
        "id": "lIuzOWL2sCMY",
        "outputId": "40c1510b-691c-4abe-9855-29a7fd04911b"
      },
      "execution_count": 5,
      "outputs": [
        {
          "output_type": "display_data",
          "data": {
            "text/plain": [
              "<Figure size 432x288 with 1 Axes>"
            ],
            "image/png": "[encoded data removed]"
          },
          "metadata": {
            "needs_background": "light"
          }
        }
      ]
    },
    {
      "cell_type": "markdown",
      "source": [
        "## Parametric ODEs\n",
        "In the previous framework, the coefficient $R$ was supposed to be constant and equal to 1. We would like to see if we can train the NN to solve the parametric ODE."
      ],
      "metadata": {
        "id": "AC-msJBi221P"
      }
    },
    {
      "cell_type": "code",
      "source": [
        "# the physics-guided neural network\n",
        "class PINN_ODE():\n",
        "    def __init__(self, IC, CollocationPts, layers):\n",
        "        \n",
        "        # data\n",
        "        self.t0  = torch.zeros([20, 1]).to(device)\n",
        "        self.IC  = torch.tensor(IC).float().to(device)\n",
        "        self.t_f = torch.tensor(CollocationPts[:, 0:1], requires_grad=True).float().to(device)\n",
        "        self.R_f = torch.tensor(CollocationPts[:, 1:2], requires_grad=True).float().to(device)\n",
        "        \n",
        "        self.layers = layers\n",
        "        \n",
        "        # deep neural networks\n",
        "        self.dnn = NeuralNet(layers).to(device)\n",
        "        \n",
        "        # optimizers: using the same settings\n",
        "        self.optimizer = torch.optim.LBFGS(\n",
        "            self.dnn.parameters(), \n",
        "            lr=1.0, \n",
        "            max_iter=50000, \n",
        "            max_eval=50000, \n",
        "            history_size=50,\n",
        "            tolerance_grad=1e-5, \n",
        "            tolerance_change=1.0 * np.finfo(float).eps,\n",
        "            line_search_fn=\"strong_wolfe\"      \n",
        "        )\n",
        "        \n",
        "        self.iter = 0\n",
        "        \n",
        "    def net_u(self, t, R):  \n",
        "        u = self.dnn(torch.cat([t, R], dim=1))\n",
        "        return u\n",
        "    \n",
        "    def net_f(self, t, R):\n",
        "        \"\"\" The pytorch autograd version of calculating residual \"\"\"\n",
        "        u = self.net_u(t, R)\n",
        "        \n",
        "        u_t = torch.autograd.grad(\n",
        "            u, t, \n",
        "            grad_outputs=torch.ones_like(u),\n",
        "            retain_graph=True,\n",
        "            create_graph=True\n",
        "        )[0]\n",
        "\n",
        "        return u_t - R * t * (1-t)\n",
        "    \n",
        "    def loss_func(self):\n",
        "        self.optimizer.zero_grad()\n",
        "        \n",
        "        u_pred = self.net_u(self.t0, self.R_f)\n",
        "        f_pred = self.net_f(self.t_f, self.R_f)\n",
        "        loss_u = torch.mean((self.IC - u_pred) ** 2)\n",
        "        loss_f = torch.mean(f_pred ** 2)\n",
        "        \n",
        "        loss = loss_u + loss_f\n",
        "        \n",
        "        loss.backward()\n",
        "        self.iter += 1\n",
        "        if self.iter % 1 == 0:\n",
        "            print(f'Iter {self.iter+0:06} | Loss: {loss.item():.3e} | Loss_u: {loss_u.item():.3e}| Loss_f: {loss_f.item():.3e}')\n",
        "        return loss\n",
        "    \n",
        "    def train(self):\n",
        "        self.dnn.train()\n",
        "                \n",
        "        # Backward and optimize\n",
        "        self.optimizer.step(self.loss_func)\n",
        "\n",
        "    def predict(self, X):\n",
        "        t = torch.tensor(X[:, 0:1], requires_grad=True).float().to(device)\n",
        "        R = torch.tensor(X[:, 1:2], requires_grad=True).float().to(device)\n",
        "\n",
        "        self.dnn.eval()\n",
        "        u = self.net_u(t, R)\n",
        "        f = self.net_f(t, R)\n",
        "        u = u.detach().cpu().numpy()\n",
        "        f = f.detach().cpu().numpy()\n",
        "        return u, f"
      ],
      "metadata": {
        "id": "NQ9Z1gZl3g_B"
      },
      "execution_count": 24,
      "outputs": []
    },
    {
      "cell_type": "code",
      "source": [
        "!pip install pyDOE"
      ],
      "metadata": {
        "id": "YZ_TzAH-5k01"
      },
      "execution_count": null,
      "outputs": []
    },
    {
      "cell_type": "code",
      "source": [
        "from pyDOE import lhs\n",
        "IC = 1.\n",
        "\n",
        "lb = np.array([0, 0.5])\n",
        "ub = np.array([1, 1.5])\n",
        "\n",
        "X_f_train = lb + (ub-lb)*lhs(2, 20)\n",
        "\n",
        "layers = [2, 10, 10, 10, 1]\n",
        "model = PINN_ODE(IC, X_f_train, layers)\n",
        "model.train()"
      ],
      "metadata": {
        "id": "p1MDsM3T5JQJ"
      },
      "execution_count": null,
      "outputs": []
    },
    {
      "cell_type": "code",
      "source": [
        "xTest = np.linspace(0, 1, 100)\n",
        "RTest = np.ones((100,1))\n",
        "\n",
        "X_star = np.vstack([xTest, RTest.flatten()]).T\n",
        "\n",
        "# numeric solution\n",
        "def logistic_eq_fn(x, y):\n",
        "    return 1. * x * (1 - x)\n",
        "\n",
        "from scipy.integrate import solve_ivp\n",
        "import time\n",
        "\n",
        "numerical_time = time.time()\n",
        "numeric_solution = solve_ivp(\n",
        "    logistic_eq_fn, domain, [1.], t_eval=xTest\n",
        ")\n",
        "numerical_time = time.time() - numerical_time\n",
        "\n",
        "import matplotlib.pyplot as plt\n",
        "\n",
        "PINN_time = time.time()\n",
        "u_pred, f_pred = model.predict(X_star)\n",
        "PINN_time = time.time() - PINN_time\n",
        "\n",
        "Pt_Train = np.vstack([X_f_train[:,0], RTest[:20].flatten()]).T\n",
        "u_TrainPts, _= model.predict(Pt_Train)\n",
        "\n",
        "plt.scatter(X_f_train[:,0], u_TrainPts, label=\"Training points\", color=\"g\")\n",
        "\n",
        "plt.plot(xTest, u_pred,'b', label='PINN')\n",
        "\n",
        "plt.plot(xTest, numeric_solution.y.T, 'r--', label = 'Numerical')\n",
        "\n",
        "plt.legend()\n",
        "plt.grid(which='major',linestyle='-')\n",
        "plt.grid(which='minor',linestyle='--')"
      ],
      "metadata": {
        "colab": {
          "base_uri": "https://localhost:8080/",
          "height": 269
        },
        "id": "81OuXFdw59IW",
        "outputId": "866f6d9a-b115-4539-94b8-26c6ff127ea8"
      },
      "execution_count": 42,
      "outputs": [
        {
          "output_type": "display_data",
          "data": {
            "text/plain": [
              "<Figure size 432x288 with 1 Axes>"
            ],
            "image/png": "[encoded data removed]"
          },
          "metadata": {
            "needs_background": "light"
          }
        }
      ]
    }
  ]
}