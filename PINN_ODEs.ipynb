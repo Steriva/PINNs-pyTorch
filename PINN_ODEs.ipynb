{
  "nbformat": 4,
  "nbformat_minor": 0,
  "metadata": {
    "colab": {
      "provenance": [],
      "collapsed_sections": [],
      "authorship_tag": "ABX9TyNysJMZmOYnO6+xsNDpxQmB",
      "include_colab_link": true
    },
    "kernelspec": {
      "name": "python3",
      "display_name": "Python 3"
    },
    "language_info": {
      "name": "python"
    }
  },
  "cells": [
    {
      "cell_type": "markdown",
      "metadata": {
        "id": "view-in-github",
        "colab_type": "text"
      },
      "source": [
        "<a href=\"https://colab.research.google.com/github/Steriva/PINNs-pyTorch/blob/master/PINN_ODEs.ipynb\" target=\"_parent\"><img src=\"https://colab.research.google.com/assets/colab-badge.svg\" alt=\"Open In Colab\"/></a>"
      ]
    },
    {
      "cell_type": "markdown",
      "source": [
        "# Physics-Informed Neural Network for parametric ODEs\n",
        "This notebook implements the basic tools using *pyTorch* to build from scratch a PINN for an ODE, e. g.\n",
        "\\begin{equation}\n",
        "\\frac{d f}{dt}=R\\cdot t(1-t)\n",
        "\\end{equation}\n",
        "given $f(0)=1$. The package for Automatic Differentiation (AD) is used to compute derivatives (AD is actually what made neural networks so efficient and successful in the first place).\n",
        "\n",
        "This notebook is based on [Mario Dagrada's Tutorial](https://towardsdatascience.com/solving-differential-equations-with-neural-networks-afdcf7b8bcc4).\n",
        "\n",
        "At first, a PINN class is defined for the topology of the net: it it takes as input the number of layers (excluding input) and the hidden dimension of the layers, the activation is by default an hyperbolic tangent, even though it can be changed."
      ],
      "metadata": {
        "id": "IsKbYCkndo2Q"
      }
    },
    {
      "cell_type": "code",
      "source": [
        "!pip install pyDOE"
      ],
      "metadata": {
        "id": "YZ_TzAH-5k01"
      },
      "execution_count": null,
      "outputs": []
    },
    {
      "cell_type": "code",
      "source": [
        "import torch\n",
        "import numpy as np\n",
        "from scipy.integrate import solve_ivp\n",
        "import matplotlib.pyplot as plt\n",
        "\n",
        "if torch.cuda.is_available():\n",
        "    device = torch.device('cuda')\n",
        "else:\n",
        "    device = torch.device('cpu')"
      ],
      "metadata": {
        "id": "paxOf-b-grYP"
      },
      "execution_count": 2,
      "outputs": []
    },
    {
      "cell_type": "markdown",
      "source": [
        "A class which takes as input a list with the number of neurons per each layer is defined."
      ],
      "metadata": {
        "id": "iol4_s_eKTdn"
      }
    },
    {
      "cell_type": "code",
      "execution_count": 3,
      "metadata": {
        "id": "ZmRjUHO0dnzS"
      },
      "outputs": [],
      "source": [
        "from torch import nn\n",
        "from collections import OrderedDict\n",
        "\n",
        "class NeuralNet(nn.Module):\n",
        "    \"\"\"Simple neural network accepting one feature as input and returning a single output\n",
        "    \n",
        "    In the context of PINNs, the neural network is used as universal function approximator\n",
        "    to approximate the solution of the differential equation\n",
        "    \"\"\"    \n",
        "    def __init__(self, layers: list, act=nn.Tanh()):\n",
        "        super(NeuralNet, self).__init__()\n",
        "\n",
        "        # parameters\n",
        "        self.depth = len(layers) - 1\n",
        "        \n",
        "        # set up layer order dict\n",
        "        self.activation = nn.Tanh\n",
        "        \n",
        "        layer_list = list()\n",
        "        for i in range(self.depth - 1): \n",
        "            layer_list.append(\n",
        "                ('layer_%d' % i, nn.Linear(layers[i], layers[i+1]))\n",
        "            )\n",
        "            layer_list.append(('activation_%d' % i, self.activation()))\n",
        "            \n",
        "        layer_list.append(\n",
        "            ('layer_%d' % (self.depth - 1), nn.Linear(layers[-2], layers[-1]))\n",
        "        )\n",
        "        layerDict = OrderedDict(layer_list)\n",
        "        \n",
        "        # deploy layers\n",
        "        self.layers = nn.Sequential(layerDict)\n",
        "\n",
        "    def forward(self, x):\n",
        "        return self.layers(x)\n",
        "        "
      ]
    },
    {
      "cell_type": "markdown",
      "source": [
        "## Logistic Equation\n",
        "Let us consider the following ODE, a logistic equation\n",
        "\\begin{equation}\n",
        "\\frac{d f}{dt}=R\\cdot t(1-t)\n",
        "\\end{equation}\n",
        "given $f(0)=1$, the following functions are used to train a Neural Network considering $R=1$."
      ],
      "metadata": {
        "id": "33yq89tFKZtR"
      }
    },
    {
      "cell_type": "code",
      "source": [
        "from typing import Callable\n",
        "\n",
        "def f(nn: NeuralNet, x: torch.Tensor) -> torch.Tensor:\n",
        "    \"\"\"Compute the value of the approximate solution from the NN model\"\"\"\n",
        "    return nn(x)\n",
        "\n",
        "\n",
        "def df(nn: NeuralNet, x: torch.Tensor = None, order: int = 1) -> torch.Tensor:\n",
        "    \"\"\"Compute neural network derivative with respect to input features using PyTorch autograd engine\"\"\"\n",
        "    df_value = f(nn, x)\n",
        "    for _ in range(order):\n",
        "        df_value = torch.autograd.grad(\n",
        "            df_value,\n",
        "            x,\n",
        "            grad_outputs=torch.ones_like(x),\n",
        "            create_graph=True,\n",
        "            retain_graph=True,\n",
        "        )[0]\n",
        "\n",
        "    return df_value\n",
        "\n",
        "\n",
        "def compute_loss(\n",
        "    nn: NeuralNet, x: torch.Tensor = None, verbose: bool = False\n",
        ") -> torch.float:\n",
        "    \"\"\"Compute the full loss function as interior loss + boundary loss\n",
        "    This custom loss function is fully defined with differentiable tensors therefore\n",
        "    the .backward() method can be applied to it\n",
        "    \"\"\"\n",
        "\n",
        "    interior_loss = df(nn, x) - 1. * x**2 * (1 - x)\n",
        "\n",
        "    boundary = torch.Tensor([0.0])\n",
        "    boundary.requires_grad = True\n",
        "    boundary_loss = f(nn, boundary) - 1.\n",
        "    final_loss = interior_loss.pow(2).mean() + boundary_loss ** 2\n",
        "    return final_loss, interior_loss.pow(2).mean(), boundary_loss ** 2\n",
        "\n",
        "\n",
        "def train_model(\n",
        "    nn: NeuralNet,\n",
        "    loss_fn: Callable,\n",
        "    learning_rate: int = 0.01,\n",
        "    max_epochs: int = 1_000,\n",
        ") -> NeuralNet:\n",
        "\n",
        "    loss_evolution = []\n",
        "\n",
        "    optimizer = torch.optim.SGD(nn.parameters(), lr=learning_rate)\n",
        "    for epoch in range(max_epochs):\n",
        "\n",
        "        try:\n",
        "\n",
        "            loss, residual_loss, boundary_loss = loss_fn(nn)\n",
        "            optimizer.zero_grad()\n",
        "            loss.backward()\n",
        "            optimizer.step()\n",
        "\n",
        "            if epoch % 1000 == 0:\n",
        "                print(f'Iter {epoch+0:06} | Loss: {float(loss):.3e} | Residual: {float(residual_loss):.3e} | Boundary: {float(boundary_loss):.3e}')\n",
        "            loss_evolution.append(loss.detach().numpy())\n",
        "\n",
        "        except KeyboardInterrupt:\n",
        "            break\n",
        "\n",
        "    return nn, np.array(loss_evolution)"
      ],
      "metadata": {
        "id": "oGQZnWghgG1Y"
      },
      "execution_count": null,
      "outputs": []
    },
    {
      "cell_type": "markdown",
      "source": [
        "Let us train this net considering 20 steps inside the domain, uniformly spaced."
      ],
      "metadata": {
        "id": "ZTaFyii7Kokp"
      }
    },
    {
      "cell_type": "code",
      "source": [
        "from functools import partial\n",
        "\n",
        "domain = [0.0, 1.0]\n",
        "x = torch.linspace(domain[0], domain[1], steps=20, requires_grad=True)\n",
        "x = x.reshape(x.shape[0], 1)\n",
        "\n",
        "\n",
        "layers = [1, 10, 10, 10, 1]\n",
        "nn_approximator = NeuralNet(layers)\n",
        "loss_fn = partial(compute_loss, x=x, verbose=True)\n",
        "nn_approximator_trained, loss_evolution = train_model(\n",
        "    nn_approximator, loss_fn=loss_fn, learning_rate=0.1, max_epochs=20_000\n",
        ")"
      ],
      "metadata": {
        "colab": {
          "base_uri": "https://localhost:8080/"
        },
        "id": "3xY1Emilnaea",
        "outputId": "b4b76a6c-188b-4862-c455-fc44f152e7fc"
      },
      "execution_count": null,
      "outputs": [
        {
          "output_type": "stream",
          "name": "stdout",
          "text": [
            "Iter 000000 | Loss: 9.880e-01 | Residual: 8.907e-03 | Boundary: 9.791e-01\n",
            "Iter 001000 | Loss: 1.213e-03 | Residual: 1.213e-03 | Boundary: 4.106e-09\n",
            "Iter 002000 | Loss: 8.854e-04 | Residual: 8.854e-04 | Boundary: 1.098e-09\n",
            "Iter 003000 | Loss: 7.161e-04 | Residual: 7.161e-04 | Boundary: 1.879e-10\n",
            "Iter 004000 | Loss: 6.562e-04 | Residual: 6.562e-04 | Boundary: 9.095e-13\n",
            "Iter 005000 | Loss: 6.170e-04 | Residual: 6.170e-04 | Boundary: 4.299e-11\n",
            "Iter 006000 | Loss: 5.801e-04 | Residual: 5.801e-04 | Boundary: 7.994e-11\n",
            "Iter 007000 | Loss: 5.437e-04 | Residual: 5.437e-04 | Boundary: 1.126e-10\n",
            "Iter 008000 | Loss: 5.072e-04 | Residual: 5.072e-04 | Boundary: 1.508e-10\n",
            "Iter 009000 | Loss: 4.702e-04 | Residual: 4.702e-04 | Boundary: 1.912e-10\n",
            "Iter 010000 | Loss: 4.323e-04 | Residual: 4.323e-04 | Boundary: 2.439e-10\n",
            "Iter 011000 | Loss: 3.932e-04 | Residual: 3.932e-04 | Boundary: 2.988e-10\n",
            "Iter 012000 | Loss: 3.526e-04 | Residual: 3.526e-04 | Boundary: 3.503e-10\n",
            "Iter 013000 | Loss: 3.104e-04 | Residual: 3.104e-04 | Boundary: 3.963e-10\n",
            "Iter 014000 | Loss: 2.668e-04 | Residual: 2.668e-04 | Boundary: 4.302e-10\n",
            "Iter 015000 | Loss: 2.223e-04 | Residual: 2.223e-04 | Boundary: 4.503e-10\n",
            "Iter 016000 | Loss: 1.780e-04 | Residual: 1.780e-04 | Boundary: 4.402e-10\n",
            "Iter 017000 | Loss: 1.358e-04 | Residual: 1.358e-04 | Boundary: 4.059e-10\n",
            "Iter 018000 | Loss: 9.819e-05 | Residual: 9.819e-05 | Boundary: 3.370e-10\n",
            "Iter 019000 | Loss: 6.763e-05 | Residual: 6.763e-05 | Boundary: 2.476e-10\n"
          ]
        }
      ]
    },
    {
      "cell_type": "markdown",
      "source": [
        "In the end, let us compare the NN solution which respect to a numerical calculation, for this simple case, also an analytical solution is possible."
      ],
      "metadata": {
        "id": "6wiUeOUDKvuN"
      }
    },
    {
      "cell_type": "code",
      "source": [
        "x_eval = torch.linspace(domain[0], domain[1], steps=100).reshape(-1, 1)\n",
        "\n",
        "# numeric solution\n",
        "def logistic_eq_fn(x, y):\n",
        "    return 1. * x**2 * (1 - x)\n",
        "\n",
        "import time\n",
        "\n",
        "numerical_time = time.time()\n",
        "numeric_solution = solve_ivp(\n",
        "    logistic_eq_fn, domain, [1.], t_eval=x_eval.squeeze().detach().numpy()\n",
        ")\n",
        "numerical_time = time.time() - numerical_time\n",
        "\n",
        "PINN_time = time.time()\n",
        "f_final_training = f(nn_approximator_trained, x)\n",
        "f_final = f(nn_approximator_trained, x_eval)\n",
        "PINN_time = time.time() - PINN_time\n",
        "\n",
        "plt.scatter(x.detach().numpy(), f_final_training.detach().numpy(), label=\"Training points\", color=\"b\")\n",
        "\n",
        "plt.plot(x_eval, f_final.detach().numpy(),'b', label='PINN')\n",
        "\n",
        "plt.plot(x_eval, numeric_solution.y.T, 'r--', label = 'Numerical')\n",
        "\n",
        "plt.legend()\n",
        "plt.grid(which='major',linestyle='-')\n",
        "plt.grid(which='minor',linestyle='--')"
      ],
      "metadata": {
        "colab": {
          "base_uri": "https://localhost:8080/",
          "height": 265
        },
        "id": "lIuzOWL2sCMY",
        "outputId": "b8c84465-8efb-4983-f529-899200c3a73b"
      },
      "execution_count": null,
      "outputs": [
        {
          "output_type": "display_data",
          "data": {
            "text/plain": [
              "<Figure size 432x288 with 1 Axes>"
            ],
            "image/png": "[encoded data removed]"
          },
          "metadata": {
            "needs_background": "light"
          }
        }
      ]
    },
    {
      "cell_type": "markdown",
      "source": [
        "### Class implementation\n",
        "The previous setting will be included into a class for a more compact implementation."
      ],
      "metadata": {
        "id": "31abZta5njcA"
      }
    },
    {
      "cell_type": "code",
      "source": [
        "class PINN_population():\n",
        "    def __init__(self, IC, CollocationPts, layers):\n",
        "        \n",
        "        # data\n",
        "        self.t0  = torch.zeros([1, 1]).to(device)\n",
        "        self.IC  = torch.tensor(IC).float().to(device)\n",
        "        self.t_f = torch.tensor(CollocationPts[:, 0:1], requires_grad=True).float().to(device)\n",
        "        \n",
        "        self.layers = layers\n",
        "        \n",
        "        # deep neural networks\n",
        "        self.dnn = NeuralNet(layers).to(device)\n",
        "        \n",
        "        # optimizers: using the same settings\n",
        "        self.optimizer = torch.optim.LBFGS(\n",
        "            self.dnn.parameters(), \n",
        "            lr=1.0, \n",
        "            max_iter=50000, \n",
        "            max_eval=50000, \n",
        "            history_size=50,\n",
        "            tolerance_grad=1e-5, \n",
        "            tolerance_change=1.0 * np.finfo(float).eps,\n",
        "            line_search_fn=\"strong_wolfe\"      \n",
        "        )\n",
        "        \n",
        "        self.iter = 0\n",
        "\n",
        "        # Adam optimizer\n",
        "        self.optimizer_Adam = torch.optim.Adam(self.dnn.parameters())\n",
        "        \n",
        "    def net_u(self, t):  \n",
        "        u = self.dnn(t)\n",
        "        return u\n",
        "    \n",
        "    def net_f(self, t):\n",
        "        \"\"\" The pytorch autograd version of calculating residual \"\"\"\n",
        "        u = self.net_u(t)\n",
        "        \n",
        "        u_t = torch.autograd.grad(\n",
        "            u, t, \n",
        "            grad_outputs=torch.ones_like(u),\n",
        "            retain_graph=True,\n",
        "            create_graph=True\n",
        "        )[0]\n",
        "\n",
        "        return u_t - 1.0 * t * (1-t)\n",
        "    \n",
        "    def loss_func(self):\n",
        "        self.optimizer.zero_grad()\n",
        "        \n",
        "        u_pred = self.net_u(self.t0)\n",
        "        f_pred = self.net_f(self.t_f)\n",
        "        loss_u = torch.mean((self.IC - u_pred) ** 2)\n",
        "        loss_f = torch.mean(f_pred ** 2)\n",
        "        \n",
        "        loss = loss_u + loss_f\n",
        "        \n",
        "        loss.backward()\n",
        "        self.iter += 1\n",
        "        if self.iter % 20 == 0:\n",
        "            print(f'Iter {self.iter+0:06} | Loss: {loss.item():.3e} | Loss_u: {loss_u.item():.3e}| Loss_f: {loss_f.item():.3e}')\n",
        "        return loss\n",
        "    \n",
        "    def train(self):\n",
        "        self.dnn.train()\n",
        "                \n",
        "        # Backward and optimize\n",
        "        self.optimizer.step(self.loss_func)\n",
        "\n",
        "    def trainAdam(self, epochs):\n",
        "\n",
        "      for epoch in range(epochs+1):\n",
        "        self.optimizer_Adam.zero_grad()\n",
        "\n",
        "        # IC prediction\n",
        "        u_pred = self.net_u(self.t0)\n",
        "\n",
        "        # Residual prediction\n",
        "        f_pred = self.net_f(self.t_f)\n",
        "\n",
        "        # Compute loss function\n",
        "        loss_u = torch.mean((self.IC - u_pred) ** 2)\n",
        "        loss_f = torch.mean(f_pred ** 2)\n",
        "        loss = loss_u + loss_f\n",
        "\n",
        "        loss.backward()\n",
        "        self.optimizer_Adam.step()\n",
        "        if epoch % 1000 == 0:\n",
        "            print(f'Iter {epoch+0:05} | Loss: {loss.item():.3e} | Loss_u: {loss_u.item():.3e} | Loss_f: {loss_f.item():.3e}')\n",
        "       \n",
        "    def predict(self, X):\n",
        "        t = torch.tensor(X[:, 0:1], requires_grad=True).float().to(device)\n",
        "       \n",
        "        self.dnn.eval()\n",
        "        u = self.net_u(t)\n",
        "        f = self.net_f(t)\n",
        "        u = u.detach().cpu().numpy()\n",
        "        f = f.detach().cpu().numpy()\n",
        "        return u, f"
      ],
      "metadata": {
        "id": "JvNFKciMnq5Q"
      },
      "execution_count": 4,
      "outputs": []
    },
    {
      "cell_type": "code",
      "source": [
        "from pyDOE import lhs\n",
        "IC = 1.\n",
        "\n",
        "lb = np.array([0])\n",
        "ub = np.array([1])\n",
        "\n",
        "X_f_train = lb + (ub-lb)*lhs(2, 25)\n",
        "\n",
        "layers = [1, 10, 10, 1]\n",
        "model = PINN_population(IC, X_f_train, layers)\n",
        "model.trainAdam(3000)"
      ],
      "metadata": {
        "colab": {
          "base_uri": "https://localhost:8080/"
        },
        "id": "jz2PAZdRomeN",
        "outputId": "5bd46f0b-be99-4e16-c72c-59649fe6f373"
      },
      "execution_count": 7,
      "outputs": [
        {
          "output_type": "stream",
          "name": "stdout",
          "text": [
            "Iter 00000 | Loss: 4.209e-01 | Loss_u: 3.226e-01 | Loss_f: 9.829e-02\n",
            "Iter 01000 | Loss: 5.334e-03 | Loss_u: 5.202e-07 | Loss_f: 5.333e-03\n",
            "Iter 02000 | Loss: 1.102e-04 | Loss_u: 8.185e-12 | Loss_f: 1.102e-04\n",
            "Iter 03000 | Loss: 9.519e-05 | Loss_u: 1.036e-11 | Loss_f: 9.519e-05\n"
          ]
        }
      ]
    },
    {
      "cell_type": "code",
      "source": [
        "t_eval = np.linspace(0,1,100)\n",
        "\n",
        "# numeric solution\n",
        "def logistic_eq_fn(x, y):\n",
        "    return 1. * x * (1 - x)\n",
        "\n",
        "numeric_solution = solve_ivp(\n",
        "    logistic_eq_fn, domain, [1.], t_eval=t_eval\n",
        ")\n",
        "\n",
        "pinn_prediction, _ = model.predict(t_eval.reshape(-1,1))\n",
        "\n",
        "plt.plot(t_eval, pinn_prediction, 'b', label='PINN')\n",
        "plt.plot(t_eval, numeric_solution.y.T, 'r--', label = 'Numerical')\n",
        "\n",
        "\n",
        "plt.legend()\n",
        "plt.grid(which='major',linestyle='-')\n",
        "plt.grid(which='minor',linestyle='--')"
      ],
      "metadata": {
        "colab": {
          "base_uri": "https://localhost:8080/",
          "height": 269
        },
        "id": "B025vcVFoybL",
        "outputId": "c1c926e9-ac53-43e3-ad27-4169a919e5b5"
      },
      "execution_count": null,
      "outputs": [
        {
          "output_type": "display_data",
          "data": {
            "text/plain": [
              "<Figure size 432x288 with 1 Axes>"
            ],
            "image/png": "[encoded data removed]"
          },
          "metadata": {
            "needs_background": "light"
          }
        }
      ]
    },
    {
      "cell_type": "markdown",
      "source": [
        "### Parametric version of the PINN\n",
        "In the previous framework, the coefficient $R$ was supposed to be constant and equal to 1. We would like to see if we can train the NN to solve the parametric ODE."
      ],
      "metadata": {
        "id": "AC-msJBi221P"
      }
    },
    {
      "cell_type": "code",
      "source": [
        "# the physics-guided neural network\n",
        "class PINN_population():\n",
        "    def __init__(self, IC, CollocationPts, layers):\n",
        "        \n",
        "        # data\n",
        "        self.t0  = torch.zeros([len(CollocationPts), 1]).to(device)\n",
        "        self.IC  = torch.tensor(IC).float().to(device)\n",
        "        self.t_f = torch.tensor(CollocationPts[:, 0:1], requires_grad=True).float().to(device)\n",
        "        self.R_f = torch.tensor(CollocationPts[:, 1:2], requires_grad=True).float().to(device)\n",
        "        \n",
        "        self.layers = layers\n",
        "        \n",
        "        # deep neural networks\n",
        "        self.dnn = NeuralNet(layers).to(device)\n",
        "        \n",
        "        # optimizers: using the same settings\n",
        "        self.optimizer = torch.optim.LBFGS(\n",
        "            self.dnn.parameters(), \n",
        "            lr=1.0, \n",
        "            max_iter=50000, \n",
        "            max_eval=50000, \n",
        "            history_size=50,\n",
        "            tolerance_grad=1e-5, \n",
        "            tolerance_change=1.0 * np.finfo(float).eps,\n",
        "            line_search_fn=\"strong_wolfe\"      \n",
        "        )\n",
        "        \n",
        "        self.iter = 0\n",
        "        \n",
        "    def net_u(self, t, R):  \n",
        "        u = self.dnn(torch.cat([t, R], dim=1))\n",
        "        return u\n",
        "    \n",
        "    def net_f(self, t, R):\n",
        "        \"\"\" The pytorch autograd version of calculating residual \"\"\"\n",
        "        u = self.net_u(t, R)\n",
        "        \n",
        "        u_t = torch.autograd.grad(\n",
        "            u, t, \n",
        "            grad_outputs=torch.ones_like(u),\n",
        "            retain_graph=True,\n",
        "            create_graph=True\n",
        "        )[0]\n",
        "\n",
        "        return u_t - R * t * (1-t)\n",
        "    \n",
        "    def loss_func(self):\n",
        "        self.optimizer.zero_grad()\n",
        "        \n",
        "        u_pred = self.net_u(self.t0, self.R_f)\n",
        "        f_pred = self.net_f(self.t_f, self.R_f)\n",
        "        loss_u = torch.mean((self.IC - u_pred) ** 2)\n",
        "        loss_f = torch.mean(f_pred ** 2)\n",
        "        \n",
        "        loss = loss_u + loss_f\n",
        "        \n",
        "        loss.backward()\n",
        "        self.iter += 1\n",
        "        if self.iter % 20 == 0:\n",
        "            print(f'Iter {self.iter+0:06} | Loss: {loss.item():.3e} | Loss_u: {loss_u.item():.3e}| Loss_f: {loss_f.item():.3e}')\n",
        "        return loss\n",
        "    \n",
        "    def train(self):\n",
        "        self.dnn.train()\n",
        "                \n",
        "        # Backward and optimize\n",
        "        self.optimizer.step(self.loss_func)\n",
        "\n",
        "    def predict(self, X):\n",
        "        t = torch.tensor(X[:, 0:1], requires_grad=True).float().to(device)\n",
        "        R = torch.tensor(X[:, 1:2], requires_grad=True).float().to(device)\n",
        "\n",
        "        self.dnn.eval()\n",
        "        u = self.net_u(t, R)\n",
        "        f = self.net_f(t, R)\n",
        "        u = u.detach().cpu().numpy()\n",
        "        f = f.detach().cpu().numpy()\n",
        "        return u, f"
      ],
      "metadata": {
        "id": "NQ9Z1gZl3g_B"
      },
      "execution_count": null,
      "outputs": []
    },
    {
      "cell_type": "markdown",
      "source": [
        "Let us train the net"
      ],
      "metadata": {
        "id": "PfxlG52_LGyW"
      }
    },
    {
      "cell_type": "code",
      "source": [
        "from pyDOE import lhs\n",
        "IC = 1.\n",
        "\n",
        "lb = np.array([0, 0.5])\n",
        "ub = np.array([1, 1.5])\n",
        "\n",
        "X_f_train = lb + (ub-lb)*lhs(2, 25)\n",
        "\n",
        "layers = [2, 10, 10, 1]\n",
        "model = PINN_population(IC, X_f_train, layers)\n",
        "model.train()"
      ],
      "metadata": {
        "colab": {
          "base_uri": "https://localhost:8080/"
        },
        "id": "p1MDsM3T5JQJ",
        "outputId": "8c408598-d140-4d86-80e6-a2924520ce49"
      },
      "execution_count": null,
      "outputs": [
        {
          "output_type": "stream",
          "name": "stdout",
          "text": [
            "Iter 000020 | Loss: 4.476e-03 | Loss_u: 1.806e-05| Loss_f: 4.458e-03\n",
            "Iter 000040 | Loss: 6.653e-04 | Loss_u: 5.244e-05| Loss_f: 6.128e-04\n",
            "Iter 000060 | Loss: 2.961e-04 | Loss_u: 1.794e-05| Loss_f: 2.781e-04\n",
            "Iter 000080 | Loss: 5.872e-05 | Loss_u: 5.025e-06| Loss_f: 5.370e-05\n",
            "Iter 000100 | Loss: 4.318e-05 | Loss_u: 6.430e-06| Loss_f: 3.675e-05\n",
            "Iter 000120 | Loss: 3.077e-05 | Loss_u: 5.996e-06| Loss_f: 2.477e-05\n",
            "Iter 000140 | Loss: 1.297e-05 | Loss_u: 5.924e-06| Loss_f: 7.048e-06\n",
            "Iter 000160 | Loss: 8.295e-06 | Loss_u: 3.221e-06| Loss_f: 5.074e-06\n",
            "Iter 000180 | Loss: 2.207e-06 | Loss_u: 4.880e-08| Loss_f: 2.158e-06\n",
            "Iter 000200 | Loss: 1.854e-06 | Loss_u: 2.420e-08| Loss_f: 1.829e-06\n",
            "Iter 000220 | Loss: 1.303e-06 | Loss_u: 2.924e-08| Loss_f: 1.274e-06\n"
          ]
        }
      ]
    },
    {
      "cell_type": "markdown",
      "source": [
        "Then, the prediction is compared with the numerical solution using scipy package."
      ],
      "metadata": {
        "id": "15JiyOg7LJmr"
      }
    },
    {
      "cell_type": "code",
      "source": [
        "xTest = np.linspace(0, 1, 100)\n",
        "RTestSet = np.linspace(0.5, 1.5, 9)\n",
        "\n",
        "def logistic_eq_fn(x, y, R):\n",
        "    return R * x * (1 - x)\n",
        "\n",
        "checkPINN = plt.figure( figsize = (16,12) )\n",
        "\n",
        "for mu in range(len(RTestSet)):\n",
        "  R_0 = RTestSet[mu]\n",
        "  R_in_NN = R_0 * np.ones((100,1))\n",
        "\n",
        "  X_star = np.vstack([xTest, R_in_NN.flatten()]).T\n",
        "\n",
        "  domain = [0.0, 1.0]\n",
        "  numeric_solution = solve_ivp(\n",
        "      logistic_eq_fn, domain, [1.], args = ([R_0]), t_eval=xTest\n",
        "  )\n",
        "\n",
        "  u_pred, f_pred = model.predict(X_star)\n",
        "\n",
        "  Pt_Train = np.vstack([X_f_train[:,0], R_in_NN[:len(X_f_train[:,0])].flatten()]).T\n",
        "  u_TrainPts, _= model.predict(Pt_Train)\n",
        "\n",
        "  plt.subplot(3,3,mu+1)\n",
        "  plt.scatter(X_f_train[:,0], u_TrainPts, label=\"Training points\", color=\"g\")\n",
        "  plt.plot(xTest, u_pred,'b', label='PINN')\n",
        "  plt.plot(xTest, numeric_solution.y.T, 'r--', label = 'Numerical')\n",
        "\n",
        "  plt.legend()\n",
        "  plt.title('R={:.2f}'.format(R_0))\n",
        "  plt.grid(which='major',linestyle='-')\n",
        "  plt.grid(which='minor',linestyle='--')"
      ],
      "metadata": {
        "colab": {
          "base_uri": "https://localhost:8080/",
          "height": 716
        },
        "id": "81OuXFdw59IW",
        "outputId": "e2bc4aee-b85c-42f4-9aa1-176e13827724"
      },
      "execution_count": null,
      "outputs": [
        {
          "output_type": "display_data",
          "data": {
            "text/plain": [
              "<Figure size 1152x864 with 9 Axes>"
            ],
            "image/png": "[encoded data removed]"
          },
          "metadata": {
            "needs_background": "light"
          }
        }
      ]
    },
    {
      "cell_type": "markdown",
      "source": [
        "## System of ODEs\n",
        "Let us consider the following ODEs system\n",
        "\\begin{equation}\n",
        "\\left\\{\n",
        "  \\begin{array}{ll}\n",
        "    \\dot{x} = x - 4 y & x(0) = 1\\\\\n",
        "    \\dot{y} = 2x + y & y(0) = -1\n",
        "  \\end{array}\n",
        "\\right.\n",
        "\\end{equation}\n"
      ],
      "metadata": {
        "id": "5A4IMvWvqzTI"
      }
    },
    {
      "cell_type": "code",
      "source": [
        "class PINN_ODEsys():\n",
        "    def __init__(self, IC, CollocationPts, layers, matrix):\n",
        "        \n",
        "        # data\n",
        "        self.t0  = torch.zeros([1, 1]).to(device)\n",
        "        self.IC  = torch.tensor(IC).float().to(device)\n",
        "        self.t_f = torch.tensor(CollocationPts[:, 0:1], requires_grad=True).float().to(device)\n",
        "        \n",
        "        self.layers = layers\n",
        "        \n",
        "        # ODE matrix\n",
        "        self.matrix = matrix\n",
        "\n",
        "        # deep neural networks\n",
        "        self.dnn = NeuralNet(layers).to(device)\n",
        "        \n",
        "        # optimizers: using the same settings\n",
        "        self.optimizer = torch.optim.LBFGS(\n",
        "            self.dnn.parameters(), \n",
        "            lr=1.0, \n",
        "            max_iter=50000, \n",
        "            max_eval=50000, \n",
        "            history_size=50,\n",
        "            tolerance_grad=1e-5, \n",
        "            tolerance_change=1.0 * np.finfo(float).eps,\n",
        "            line_search_fn=\"strong_wolfe\"      \n",
        "        )\n",
        "        \n",
        "        self.iter = 0\n",
        "\n",
        "        # Adam optimizer\n",
        "        self.optimizer_Adam = torch.optim.Adam(self.dnn.parameters())\n",
        "        \n",
        "    def net_u(self, t):  \n",
        "        u = self.dnn(t)\n",
        "        return u\n",
        "    \n",
        "    def net_f(self, t):\n",
        "        \"\"\" The pytorch autograd version of calculating residual \"\"\"\n",
        "        u = self.net_u(t)\n",
        "\n",
        "        f_list = list()\n",
        "\n",
        "        for ii in range(2):\n",
        "          x = u[:, ii:ii+1]\n",
        "\n",
        "          matrixTorch = torch.tensor(self.matrix[ii, :].T).float().to(device)\n",
        "          x_t = torch.autograd.grad(\n",
        "              x, t, \n",
        "              grad_outputs=torch.ones_like(x),\n",
        "              retain_graph=True,\n",
        "              create_graph=True\n",
        "          )[0]\n",
        "          RHS = torch.reshape(torch.matmul(u, matrixTorch), x_t.shape)\n",
        "          f_list.append( x_t - RHS )\n",
        "        return f_list\n",
        "\n",
        "    def trainAdam(self, epochs):\n",
        "\n",
        "      for epoch in range(epochs+1):\n",
        "        self.optimizer_Adam.zero_grad()\n",
        "\n",
        "        # IC prediction\n",
        "        u_pred = self.net_u(self.t0)\n",
        "\n",
        "        # Residual prediction\n",
        "        f_pred = model.net_f(model.t_f)              \n",
        "\n",
        "        # Compute loss function\n",
        "        loss_u = torch.mean((self.IC - u_pred) ** 2)\n",
        "\n",
        "        loss_f = list() \n",
        "        for ii in range(len(f_pred)):\n",
        "          loss_f.append(torch.mean(f_pred[ii]**2))\n",
        "\n",
        "        loss_f = sum(loss_f)\n",
        "        loss = loss_u + loss_f\n",
        "\n",
        "        loss.backward()\n",
        "        self.optimizer_Adam.step()\n",
        "        if epoch % 1000 == 0:\n",
        "            print(f'Iter {epoch+0:05} | Loss: {loss.item():.3e} | Loss_u: {loss_u.item():.3e} | loss_f: {loss_f.item():.3e}')\n",
        "       \n",
        "    def predict(self, X):\n",
        "        input = torch.tensor(X, requires_grad=True).float().to(device)\n",
        "       \n",
        "        self.dnn.eval()\n",
        "        u = self.net_u(input)\n",
        "        u = u.detach().cpu().numpy()\n",
        "        x = u[:, 0:1]\n",
        "        y = u[:, 1:2]\n",
        "\n",
        "        f_x, f_y = self.net_f(input)\n",
        "        f_x = f_x.detach().cpu().numpy()\n",
        "        f_y = f_y.detach().cpu().numpy()\n",
        "        return x, y, f_x, f_y\n",
        "\n",
        "from pyDOE import lhs\n",
        "IC = np.reshape(np.array([1., -10.]), (1,2))\n",
        "\n",
        "lb = np.array([0])\n",
        "ub = np.array([1])\n",
        "\n",
        "X_f_train = lb + (ub-lb)*lhs(1, 50)\n",
        "\n",
        "matrix = np.array([\n",
        "    [1., -4], [2., 1.]\n",
        "])\n",
        "\n",
        "layers = [1, 10, 2]\n",
        "model = PINN_ODEsys(IC, X_f_train, layers, matrix)\n",
        "model.trainAdam(10000)"
      ],
      "metadata": {
        "id": "GgR_r73QrhjB",
        "outputId": "833f02c5-21fe-4ea6-a604-daeb4370fd49",
        "colab": {
          "base_uri": "https://localhost:8080/"
        }
      },
      "execution_count": 8,
      "outputs": [
        {
          "output_type": "stream",
          "name": "stdout",
          "text": [
            "Iter 00000 | Loss: 5.535e+01 | Loss_u: 5.429e+01 | loss_f: 1.057e+00\n",
            "Iter 01000 | Loss: 4.213e+01 | Loss_u: 3.663e+01 | loss_f: 5.499e+00\n",
            "Iter 02000 | Loss: 3.543e+01 | Loss_u: 2.860e+01 | loss_f: 6.829e+00\n",
            "Iter 03000 | Loss: 2.339e+01 | Loss_u: 1.829e+01 | loss_f: 5.097e+00\n",
            "Iter 04000 | Loss: 1.219e+01 | Loss_u: 9.088e+00 | loss_f: 3.106e+00\n",
            "Iter 05000 | Loss: 5.200e+00 | Loss_u: 3.621e+00 | loss_f: 1.579e+00\n",
            "Iter 06000 | Loss: 2.019e+00 | Loss_u: 1.089e+00 | loss_f: 9.299e-01\n",
            "Iter 07000 | Loss: 9.222e-01 | Loss_u: 3.118e-01 | loss_f: 6.104e-01\n",
            "Iter 08000 | Loss: 3.391e-01 | Loss_u: 7.014e-02 | loss_f: 2.690e-01\n",
            "Iter 09000 | Loss: 7.575e-02 | Loss_u: 8.929e-03 | loss_f: 6.682e-02\n",
            "Iter 10000 | Loss: 3.064e-02 | Loss_u: 9.147e-04 | loss_f: 2.972e-02\n"
          ]
        }
      ]
    },
    {
      "cell_type": "code",
      "source": [
        "def simpleODEsys(x, y):\n",
        "    return np.dot(matrix, y)\n",
        "\n",
        "# Integrator keywords for solve_ivp\n",
        "integrator_keywords = {}\n",
        "integrator_keywords['rtol'] = 1e-10\n",
        "integrator_keywords['method'] = 'RK45'\n",
        "integrator_keywords['atol'] = 1e-12\n",
        "\n",
        "simpleODE = solve_ivp(simpleODEsys, (0,1), IC.flatten(), **integrator_keywords, dense_output=True)\n",
        "\n",
        "t_eval = np.linspace(0,1, 100)\n",
        "x_num = simpleODE.sol(t_eval).T[:, 0]\n",
        "y_num = simpleODE.sol(t_eval).T[:, 1]\n",
        "\n",
        "x_PINN, y_PINN, _, _ = model.predict(t_eval.reshape(-1,1))\n",
        "\n",
        "plt.figure( figsize = (8, 4) )\n",
        "plt.subplot(1,2,1)\n",
        "plt.plot(t_eval, x_PINN, 'b', label = 'PINN')\n",
        "plt.plot(t_eval, x_num, 'r--', label = 'Numerical')\n",
        "plt.legend()\n",
        "plt.grid(which='major',linestyle='-')\n",
        "plt.grid(which='minor',linestyle='--')\n",
        "\n",
        "plt.subplot(1,2,2)\n",
        "plt.plot(t_eval, y_PINN, 'b', label = 'PINN')\n",
        "plt.plot(t_eval, y_num, 'r--', label = 'Numerical')\n",
        "plt.legend()\n",
        "plt.grid(which='major',linestyle='-')\n",
        "plt.grid(which='minor',linestyle='--')"
      ],
      "metadata": {
        "id": "4_jrBEtEuMP2",
        "outputId": "31a6ccd2-e392-41c2-ede0-748bf9a6dae8",
        "colab": {
          "base_uri": "https://localhost:8080/",
          "height": 265
        }
      },
      "execution_count": 9,
      "outputs": [
        {
          "output_type": "display_data",
          "data": {
            "text/plain": [
              "<Figure size 576x288 with 2 Axes>"
            ],
            "image/png": "[encoded data removed]"
          },
          "metadata": {
            "needs_background": "light"
          }
        }
      ]
    },
    {
      "cell_type": "markdown",
      "source": [
        "## Non-Linear ODE\n",
        "In every example, that has been faced before the IC was in general \"small\", thus it didn't cause problems during the training. However, if the solution has an IC \"large\", it may be difficult to reduce the loss function, especially for non-linear problems.\n",
        "\n",
        "Let us consider the following ODE\n",
        "\\begin{equation}\n",
        "\\left\\{\n",
        "  \\begin{array}{ll}\n",
        "    \\frac{d u}{dt} = f(u,t)\\\\ u(0) = u_0\n",
        "  \\end{array}\n",
        "\\right.\n",
        "\\end{equation}\n",
        "An approximate solution of this problem is the following\n",
        "\\begin{equation}\n",
        "  u_{NN}(t) = u_0 + t \\cdot \\Phi_{NN}(t) \n",
        "\\end{equation}\n",
        "in which $\\Phi_{NN}(t)$ represents the output of the NN given the input $t$. In this way, the IC is always respected! The loss function is only given by the residual, i.e.\n",
        "\\begin{equation}\n",
        "\\mathcal{L} = \\left\\|\\frac{d u_{NN}}{dt} - f(u_{NN},t)\\right\\|\n",
        "\\end{equation}\n",
        "\n",
        "The following example will focus on the following ODE\n",
        "\\begin{equation}\n",
        "\\left\\{\n",
        "  \\begin{array}{ll}\n",
        "    \\frac{d u}{dt} =- u^2\\\\ u(0) = u_0\n",
        "  \\end{array}\n",
        "\\right.\n",
        "\\end{equation}\n",
        "If $|u_0|>>1$, it may be useful to normalise the loss function with respect to it, to enhance the training of the NN, i.e.\n",
        "\\begin{equation}\n",
        "\\mathcal{L}^* = \\left\\|\\frac{1}{u_0}\\cdot\\left[\\frac{d u_{NN}}{dt} - f(u_{NN},t)\\right]\\right\\|\n",
        "\\end{equation}"
      ],
      "metadata": {
        "id": "o024EwrgVm53"
      }
    },
    {
      "cell_type": "code",
      "source": [
        "class PINN_nonLinODE():\n",
        "    def __init__(self, t0, IC, CollocationPts, layers, gamma):\n",
        "        \n",
        "        # data\n",
        "        self.t0  = torch.tensor(t0).float().to(device)\n",
        "        self.IC  = torch.tensor(IC).float().to(device)\n",
        "        self.gamma = gamma\n",
        "\n",
        "        self.t_f = torch.tensor(CollocationPts[:, 0:1], requires_grad=True).float().to(device)\n",
        "        \n",
        "        self.layers = layers\n",
        "        \n",
        "        # deep neural networks\n",
        "        self.dnn = NeuralNet(layers).to(device)\n",
        "        \n",
        "        # optimizers: using the same settings\n",
        "        self.optimizer = torch.optim.LBFGS(\n",
        "            self.dnn.parameters(), \n",
        "            lr=1.0, \n",
        "            max_iter=50000, \n",
        "            max_eval=50000, \n",
        "            history_size=50,\n",
        "            tolerance_grad=1e-5, \n",
        "            tolerance_change=1.0 * np.finfo(float).eps,\n",
        "            line_search_fn=\"strong_wolfe\"      \n",
        "        )\n",
        "        \n",
        "        self.iter = 0\n",
        "\n",
        "        # Adam optimizer\n",
        "        self.optimizer_Adam = torch.optim.Adam(self.dnn.parameters())\n",
        "        \n",
        "    def net_u(self, t):\n",
        "        # The output is u0 + (t-t0) * net_u(t)  \n",
        "        u = self.dnn(t)\n",
        "        return self.IC + (t-self.t0) * u\n",
        "    \n",
        "    def net_f(self, t):\n",
        "        \"\"\" The pytorch autograd version of calculating residual \"\"\"\n",
        "        u = self.net_u(t)\n",
        "\n",
        "        u_t = torch.autograd.grad(\n",
        "            u, t, \n",
        "            grad_outputs=torch.ones_like(u),\n",
        "            retain_graph=True,\n",
        "            create_graph=True\n",
        "        )[0]\n",
        "        \n",
        "        return (u_t + u) / self.IC\n",
        "\n",
        "    def trainAdam(self, epochs):\n",
        "\n",
        "      for epoch in range(epochs+1):\n",
        "        self.optimizer_Adam.zero_grad()\n",
        "\n",
        "        # Residual prediction\n",
        "        f_pred = model.net_f(model.t_f)              \n",
        "\n",
        "        loss = torch.mean(f_pred**2)\n",
        "\n",
        "        loss.backward()\n",
        "        self.optimizer_Adam.step()\n",
        "        if epoch % 1000 == 0:\n",
        "            print(f'Iter {epoch+0:05} | Loss: {loss.item():.3e}')\n",
        "       \n",
        "    def predict(self, X):\n",
        "        input = torch.tensor(X, requires_grad=True).float().to(device)\n",
        "       \n",
        "        self.dnn.eval()\n",
        "        u = self.net_u(input).detach().cpu().numpy()\n",
        "\n",
        "        f = self.net_f(input).detach().cpu().numpy()\n",
        "        return u, f"
      ],
      "metadata": {
        "id": "G9wgL9dKYvQJ"
      },
      "execution_count": 78,
      "outputs": []
    },
    {
      "cell_type": "markdown",
      "source": [
        "In this case, a non-parametric version will be considered then $\\gamma = 0.5$ and $u_0 = 1$."
      ],
      "metadata": {
        "id": "pSyM1sV7Z1qz"
      }
    },
    {
      "cell_type": "code",
      "source": [
        "gamma = 0.5\n",
        "u0 = 100\n",
        "\n",
        "from pyDOE import lhs\n",
        "\n",
        "lb = np.array([0])\n",
        "ub = np.array([1])\n",
        "\n",
        "X_f_train = lb + (ub-lb)*lhs(1, 50)\n",
        "\n",
        "layers = [1, 20, 15, 10, 1]\n",
        "model = PINN_nonLinODE(0., u0, X_f_train, layers, gamma)\n",
        "\n",
        "model.trainAdam(20000)"
      ],
      "metadata": {
        "id": "Y_OSCa1-Z2JH",
        "outputId": "56e274fe-dd2b-470d-9aaa-cfa275d4f18e",
        "colab": {
          "base_uri": "https://localhost:8080/"
        }
      },
      "execution_count": 87,
      "outputs": [
        {
          "output_type": "stream",
          "name": "stdout",
          "text": [
            "Iter 00000 | Loss: 1.004e+00\n",
            "Iter 01000 | Loss: 6.724e-01\n",
            "Iter 02000 | Loss: 4.538e-01\n",
            "Iter 03000 | Loss: 2.924e-01\n",
            "Iter 04000 | Loss: 1.779e-01\n",
            "Iter 05000 | Loss: 1.030e-01\n",
            "Iter 06000 | Loss: 6.035e-02\n",
            "Iter 07000 | Loss: 4.147e-02\n",
            "Iter 08000 | Loss: 3.616e-02\n",
            "Iter 09000 | Loss: 3.551e-02\n",
            "Iter 10000 | Loss: 3.549e-02\n",
            "Iter 11000 | Loss: 3.549e-02\n",
            "Iter 12000 | Loss: 3.549e-02\n",
            "Iter 13000 | Loss: 3.549e-02\n",
            "Iter 14000 | Loss: 3.549e-02\n",
            "Iter 15000 | Loss: 3.549e-02\n",
            "Iter 16000 | Loss: 3.549e-02\n",
            "Iter 17000 | Loss: 3.549e-02\n",
            "Iter 18000 | Loss: 9.310e-03\n",
            "Iter 19000 | Loss: 2.190e-03\n",
            "Iter 20000 | Loss: 7.223e-04\n"
          ]
        }
      ]
    },
    {
      "cell_type": "code",
      "source": [
        "def nonLinODE(t, u, gamma):\n",
        "  return -u\n",
        "\n",
        "tEval = np.linspace(0,1,100)\n",
        "\n",
        "nonLinODE_numerical = solve_ivp(nonLinODE, (0,1), np.array([u0]), args=([gamma]), **integrator_keywords, dense_output=True)\n",
        "\n",
        "u_NN, _ = model.predict(tEval.reshape(-1,1))\n",
        "plt.plot(tEval, u_NN, 'b', label = 'PINN')\n",
        "plt.plot(tEval, nonLinODE_numerical.sol(tEval).T, 'r--', label='Numerical')\n",
        "plt.legend()\n",
        "plt.grid(which='major',linestyle='-')\n",
        "plt.grid(which='minor',linestyle='--')"
      ],
      "metadata": {
        "id": "wmIwrM78aP-Q",
        "outputId": "b7ad2226-a842-47eb-b1b0-8f383ad42476",
        "colab": {
          "base_uri": "https://localhost:8080/",
          "height": 265
        }
      },
      "execution_count": 88,
      "outputs": [
        {
          "output_type": "display_data",
          "data": {
            "text/plain": [
              "<Figure size 432x288 with 1 Axes>"
            ],
            "image/png": "[encoded data removed]"
          },
          "metadata": {
            "needs_background": "light"
          }
        }
      ]
    }
  ]
}