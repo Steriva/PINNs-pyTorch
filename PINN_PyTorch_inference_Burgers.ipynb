{
  "cells": [
    {
      "cell_type": "markdown",
      "metadata": {
        "id": "view-in-github",
        "colab_type": "text"
      },
      "source": [
        "<a href=\"https://colab.research.google.com/github/Steriva/PINNs-pyTorch/blob/master/PINN_PyTorch_inference_Burgers.ipynb\" target=\"_parent\"><img src=\"https://colab.research.google.com/assets/colab-badge.svg\" alt=\"Open In Colab\"/></a>"
      ]
    },
    {
      "cell_type": "markdown",
      "metadata": {
        "id": "t7OPpVnp62hB"
      },
      "source": [
        "# Physics-Informed Neural Network for the Burgers Equation\n",
        "In this notebook, we illustrate physics informed neural networks (PINNs) to solve partial differential equations (PDEs) as proposed in\n",
        "\n",
        "**Original Work**: *Maziar Raissi, Paris Perdikaris, and George Em Karniadakis*\n",
        "\n",
        "**Github Repo** : https://github.com/maziarraissi/PINNs and https://github.com/jayroxis/PINNs\n",
        "\n",
        "The differential problem studied is the Burgers equation ($\\nu\\in\\mathbb{R}$):\n",
        "$$\n",
        "\\begin{aligned}\n",
        "    \\partial_t u + u \\, \\partial_x u - \\nu \\, \\partial_{xx} u &= 0, \\quad &&\\quad (t,x) \\in (0,1] \\times (-1,1),\\\\\n",
        "   u(0,x) &= - \\sin(\\pi \\, x),                 \\quad &&\\quad x \\in [-1,1],\\\\\n",
        "   u(t,-1) = u(t,1) &= 0,                      \\quad &&\\quad t \\in (0,1].\n",
        "\\end{aligned}\n",
        "$$\n"
      ]
    },
    {
      "cell_type": "markdown",
      "metadata": {
        "id": "64X_KjCA62hG"
      },
      "source": [
        "## Libraries and Dependencies\n",
        "At first the libraries are loaded."
      ]
    },
    {
      "cell_type": "code",
      "source": [
        "!pip install pyDOE"
      ],
      "metadata": {
        "id": "m9Y_9IDk7Jwz"
      },
      "execution_count": null,
      "outputs": []
    },
    {
      "cell_type": "code",
      "execution_count": null,
      "metadata": {
        "id": "O_CBJiEi62hG"
      },
      "outputs": [],
      "source": [
        "import torch\n",
        "from collections import OrderedDict\n",
        "\n",
        "from pyDOE import lhs\n",
        "import numpy as np\n",
        "import matplotlib.pyplot as plt\n",
        "import scipy.io\n",
        "from scipy.interpolate import griddata\n",
        "from mpl_toolkits.axes_grid1 import make_axes_locatable\n",
        "import matplotlib.gridspec as gridspec\n",
        "import time\n",
        "\n",
        "# set seed for reproducability\n",
        "np.random.seed(1234)\n",
        "\n",
        "# CUDA support \n",
        "if torch.cuda.is_available():\n",
        "    device = torch.device('cuda')\n",
        "else:\n",
        "    device = torch.device('cpu')"
      ]
    },
    {
      "cell_type": "markdown",
      "metadata": {
        "id": "gdL2IzFC62hI"
      },
      "source": [
        "## Physics-informed Neural Networks\n",
        "The Neural Network topology must be defined: the input for the initialisation of this class is *layers*, a list with the dimension of each layer in the net. In this case all layers are activated with a *tanh* function. The network topology definition is carried out using a dictionary."
      ]
    },
    {
      "cell_type": "code",
      "execution_count": null,
      "metadata": {
        "id": "CKucS9Xb62hI"
      },
      "outputs": [],
      "source": [
        "# the deep neural network\n",
        "class DNN(torch.nn.Module):\n",
        "    def __init__(self, layers):\n",
        "        super(DNN, self).__init__()\n",
        "        \n",
        "        # parameters\n",
        "        self.depth = len(layers) - 1\n",
        "        \n",
        "        # set up layer order dict\n",
        "        self.activation = torch.nn.Tanh\n",
        "        \n",
        "        layer_list = list()\n",
        "        for i in range(self.depth - 1): \n",
        "            layer_list.append(\n",
        "                ('layer_%d' % i, torch.nn.Linear(layers[i], layers[i+1]))\n",
        "            )\n",
        "            layer_list.append(('activation_%d' % i, self.activation()))\n",
        "            \n",
        "        layer_list.append(\n",
        "            ('layer_%d' % (self.depth - 1), torch.nn.Linear(layers[-2], layers[-1]))\n",
        "        )\n",
        "        layerDict = OrderedDict(layer_list)\n",
        "        \n",
        "        # deploy layers\n",
        "        self.layers = torch.nn.Sequential(layerDict)\n",
        "        \n",
        "    def forward(self, x):\n",
        "        out = self.layers(x)\n",
        "        return out"
      ]
    },
    {
      "cell_type": "markdown",
      "source": [
        "Then, the PINN class is defined which is used for training and prediction. The input consists of:\n",
        "- *X_u*: the time instants for the BC and the points for the IC\n",
        "- *u*: values of the solution at *X_u*\n",
        "- *X_f*: points in space-time to compute the residual and the required derivatives\n",
        "- *layers*: list with the number of neurons per each layer\n",
        "- *lb, ub*: lower and upper bound for the input (these are vectors of 2 dim, space+time)\n",
        "- *nu*: viscosity value"
      ],
      "metadata": {
        "id": "s0RtYFJ98l1O"
      }
    },
    {
      "cell_type": "code",
      "execution_count": null,
      "metadata": {
        "id": "cYbykFZm62hJ"
      },
      "outputs": [],
      "source": [
        "# the physics-guided neural network\n",
        "class PhysicsInformedNN():\n",
        "    def __init__(self, X_u, u, X_f, layers, lb, ub, nu):\n",
        "        \n",
        "        # boundary conditions\n",
        "        self.lb = torch.tensor(lb).float().to(device)\n",
        "        self.ub = torch.tensor(ub).float().to(device)\n",
        "        \n",
        "        # data\n",
        "        self.x_u = torch.tensor(X_u[:, 0:1], requires_grad=True).float().to(device)\n",
        "        self.t_u = torch.tensor(X_u[:, 1:2], requires_grad=True).float().to(device)\n",
        "        self.x_f = torch.tensor(X_f[:, 0:1], requires_grad=True).float().to(device)\n",
        "        self.t_f = torch.tensor(X_f[:, 1:2], requires_grad=True).float().to(device)\n",
        "        self.u = torch.tensor(u).float().to(device)\n",
        "        \n",
        "        self.layers = layers\n",
        "        self.nu = nu\n",
        "        \n",
        "        # deep neural networks\n",
        "        self.dnn = DNN(layers).to(device)\n",
        "        \n",
        "        # optimizers: using the same settings\n",
        "        self.optimizer = torch.optim.LBFGS(\n",
        "            self.dnn.parameters(), \n",
        "            lr=1.0, \n",
        "            max_iter=50000, \n",
        "            max_eval=50000, \n",
        "            history_size=50,\n",
        "            tolerance_grad=1e-5, \n",
        "            tolerance_change=1.0 * np.finfo(float).eps,\n",
        "            line_search_fn=\"strong_wolfe\"      \n",
        "        )\n",
        "\n",
        "        # Adam optimizer example\n",
        "        # self.optimizer_Adam = torch.optim.Adam(self.dnn.parameters())\n",
        "        \n",
        "        self.iter = 0\n",
        "        \n",
        "    def net_u(self, x, t):  \n",
        "        u = self.dnn(torch.cat([x, t], dim=1))\n",
        "        return u\n",
        "    \n",
        "    def net_f(self, x, t):\n",
        "        \"\"\" The pytorch autograd version of calculating residual \"\"\"\n",
        "        u = self.net_u(x, t)\n",
        "        \n",
        "        u_t = torch.autograd.grad(\n",
        "            u, t, \n",
        "            grad_outputs=torch.ones_like(u),\n",
        "            retain_graph=True,\n",
        "            create_graph=True\n",
        "        )[0]\n",
        "        u_x = torch.autograd.grad(\n",
        "            u, x, \n",
        "            grad_outputs=torch.ones_like(u),\n",
        "            retain_graph=True,\n",
        "            create_graph=True\n",
        "        )[0]\n",
        "        u_xx = torch.autograd.grad(\n",
        "            u_x, x, \n",
        "            grad_outputs=torch.ones_like(u_x),\n",
        "            retain_graph=True,\n",
        "            create_graph=True\n",
        "        )[0]\n",
        "        \n",
        "        f = u_t + u * u_x - self.nu * u_xx\n",
        "        return f\n",
        "    \n",
        "    def loss_func(self):\n",
        "        self.optimizer.zero_grad()\n",
        "        \n",
        "        u_pred = self.net_u(self.x_u, self.t_u)\n",
        "        f_pred = self.net_f(self.x_f, self.t_f)\n",
        "        loss_u = torch.mean((self.u - u_pred) ** 2)\n",
        "        loss_f = torch.mean(f_pred ** 2)\n",
        "        \n",
        "        loss = loss_u + loss_f\n",
        "        \n",
        "        loss.backward()\n",
        "        self.iter += 1\n",
        "        if self.iter % 100 == 0:\n",
        "            print(f'Iter {self.iter+0:06} | Loss: {loss.item():.3e} | Loss_u: {loss_u.item():.3e}| Loss_f: {loss_f.item():.3e}')\n",
        "        return loss\n",
        "    \n",
        "    def train(self):\n",
        "        self.dnn.train()\n",
        "                \n",
        "        # Backward and optimize\n",
        "        self.optimizer.step(self.loss_func)\n",
        "\n",
        "    def predict(self, X):\n",
        "        x = torch.tensor(X[:, 0:1], requires_grad=True).float().to(device)\n",
        "        t = torch.tensor(X[:, 1:2], requires_grad=True).float().to(device)\n",
        "\n",
        "        self.dnn.eval()\n",
        "        u = self.net_u(x, t)\n",
        "        f = self.net_f(x, t)\n",
        "        u = u.detach().cpu().numpy()\n",
        "        f = f.detach().cpu().numpy()\n",
        "        return u, f"
      ]
    },
    {
      "cell_type": "markdown",
      "metadata": {
        "id": "ZFg7eJxg62hK"
      },
      "source": [
        "## Application for prediction: Burgers equation\n",
        "Let us consider the viscosity equal to $\\nu = \\frac{0.01}{\\pi}$."
      ]
    },
    {
      "cell_type": "code",
      "execution_count": null,
      "metadata": {
        "id": "HgRCG3Tr62hL"
      },
      "outputs": [],
      "source": [
        "nu = 0.01/np.pi\n",
        "noise = 0.0        \n",
        "\n",
        "N_u = 100\n",
        "N_f = 10000\n",
        "layers = [2, 20, 20, 20, 20, 20, 20, 20, 20, 1]\n",
        "\n",
        "data = scipy.io.loadmat('burgers_shock.mat')\n",
        "\n",
        "t = data['t'].flatten()[:,None]\n",
        "x = data['x'].flatten()[:,None]\n",
        "Exact = np.real(data['usol']).T\n",
        "\n",
        "X, T = np.meshgrid(x,t)\n",
        "\n",
        "X_star = np.hstack((X.flatten()[:,None], T.flatten()[:,None]))\n",
        "u_star = Exact.flatten()[:,None]              \n",
        "\n",
        "# Doman bounds\n",
        "lb = X_star.min(0)\n",
        "ub = X_star.max(0)    \n",
        "\n",
        "xx1 = np.hstack((X[0:1,:].T, T[0:1,:].T))\n",
        "uu1 = Exact[0:1,:].T\n",
        "xx2 = np.hstack((X[:,0:1], T[:,0:1]))\n",
        "uu2 = Exact[:,0:1]\n",
        "xx3 = np.hstack((X[:,-1:], T[:,-1:]))\n",
        "uu3 = Exact[:,-1:]\n",
        "\n",
        "X_u_train = np.vstack([xx1, xx2, xx3])\n",
        "X_f_train = lb + (ub-lb)*lhs(2, N_f)\n",
        "X_f_train = np.vstack((X_f_train, X_u_train))\n",
        "u_train = np.vstack([uu1, uu2, uu3])\n",
        "\n",
        "idx = np.random.choice(X_u_train.shape[0], N_u, replace=False)\n",
        "X_u_train = X_u_train[idx, :]\n",
        "u_train = u_train[idx,:]"
      ]
    },
    {
      "cell_type": "code",
      "source": [
        "X_f_train.shape"
      ],
      "metadata": {
        "colab": {
          "base_uri": "https://localhost:8080/"
        },
        "id": "DJC2GvOJgWxp",
        "outputId": "7158a379-9df1-46b8-dba7-c3b52c669436"
      },
      "execution_count": null,
      "outputs": [
        {
          "output_type": "execute_result",
          "data": {
            "text/plain": [
              "(10456, 2)"
            ]
          },
          "metadata": {},
          "execution_count": 28
        }
      ]
    },
    {
      "cell_type": "markdown",
      "metadata": {
        "id": "WuohWSWV62hM"
      },
      "source": [
        "### Training\n",
        "Let us train the model using L-BFGS."
      ]
    },
    {
      "cell_type": "code",
      "execution_count": null,
      "metadata": {
        "colab": {
          "base_uri": "https://localhost:8080/"
        },
        "id": "XKFRsuIW62hM",
        "outputId": "952b2a36-2771-41bc-e008-b2eeeb319408"
      },
      "outputs": [
        {
          "output_type": "stream",
          "name": "stdout",
          "text": [
            "Iter 000100 | Loss: 6.365e-02 | Loss_u: 3.716e-02| Loss_f: 2.649e-02\n",
            "Iter 000200 | Loss: 2.220e-02 | Loss_u: 1.331e-02| Loss_f: 8.889e-03\n",
            "Iter 000300 | Loss: 1.356e-02 | Loss_u: 7.933e-03| Loss_f: 5.630e-03\n",
            "Iter 000400 | Loss: 8.120e-03 | Loss_u: 4.110e-03| Loss_f: 4.010e-03\n",
            "Iter 000500 | Loss: 5.723e-03 | Loss_u: 1.847e-03| Loss_f: 3.876e-03\n",
            "Iter 000600 | Loss: 3.628e-03 | Loss_u: 9.037e-04| Loss_f: 2.724e-03\n",
            "Iter 000700 | Loss: 1.970e-03 | Loss_u: 4.508e-04| Loss_f: 1.519e-03\n",
            "Iter 000800 | Loss: 1.140e-03 | Loss_u: 1.622e-04| Loss_f: 9.775e-04\n",
            "Iter 000900 | Loss: 6.763e-04 | Loss_u: 4.779e-05| Loss_f: 6.285e-04\n",
            "Iter 001000 | Loss: 4.601e-04 | Loss_u: 5.043e-05| Loss_f: 4.096e-04\n",
            "Iter 001100 | Loss: 3.131e-04 | Loss_u: 2.168e-05| Loss_f: 2.914e-04\n",
            "Iter 001200 | Loss: 2.380e-04 | Loss_u: 2.231e-05| Loss_f: 2.157e-04\n",
            "Iter 001300 | Loss: 1.949e-04 | Loss_u: 2.161e-05| Loss_f: 1.733e-04\n",
            "Iter 001400 | Loss: 1.636e-04 | Loss_u: 1.579e-05| Loss_f: 1.478e-04\n",
            "Iter 001500 | Loss: 1.347e-04 | Loss_u: 1.090e-05| Loss_f: 1.238e-04\n",
            "Iter 001600 | Loss: 1.131e-04 | Loss_u: 1.071e-05| Loss_f: 1.024e-04\n",
            "Iter 001700 | Loss: 9.697e-05 | Loss_u: 6.557e-06| Loss_f: 9.042e-05\n",
            "Iter 001800 | Loss: 7.823e-05 | Loss_u: 3.866e-06| Loss_f: 7.436e-05\n",
            "Iter 001900 | Loss: 6.876e-05 | Loss_u: 4.577e-06| Loss_f: 6.418e-05\n",
            "Iter 002000 | Loss: 6.043e-05 | Loss_u: 2.514e-06| Loss_f: 5.791e-05\n",
            "Iter 002100 | Loss: 5.586e-05 | Loss_u: 2.287e-06| Loss_f: 5.357e-05\n",
            "Iter 002200 | Loss: 5.136e-05 | Loss_u: 2.337e-06| Loss_f: 4.902e-05\n",
            "Iter 002300 | Loss: 4.571e-05 | Loss_u: 2.298e-06| Loss_f: 4.341e-05\n",
            "Iter 002400 | Loss: 4.260e-05 | Loss_u: 1.781e-06| Loss_f: 4.082e-05\n",
            "Iter 002500 | Loss: 3.803e-05 | Loss_u: 1.470e-06| Loss_f: 3.656e-05\n",
            "Iter 002600 | Loss: 3.410e-05 | Loss_u: 1.288e-06| Loss_f: 3.282e-05\n",
            "Iter 002700 | Loss: 3.113e-05 | Loss_u: 1.629e-06| Loss_f: 2.950e-05\n",
            "Iter 002800 | Loss: 2.837e-05 | Loss_u: 1.359e-06| Loss_f: 2.701e-05\n",
            "Iter 002900 | Loss: 2.619e-05 | Loss_u: 1.283e-06| Loss_f: 2.490e-05\n",
            "Iter 003000 | Loss: 2.445e-05 | Loss_u: 1.135e-06| Loss_f: 2.331e-05\n",
            "Iter 003100 | Loss: 2.237e-05 | Loss_u: 1.341e-06| Loss_f: 2.103e-05\n",
            "Iter 003200 | Loss: 2.075e-05 | Loss_u: 1.207e-06| Loss_f: 1.954e-05\n",
            "Iter 003300 | Loss: 1.939e-05 | Loss_u: 1.137e-06| Loss_f: 1.826e-05\n",
            "Iter 003400 | Loss: 1.831e-05 | Loss_u: 1.143e-06| Loss_f: 1.716e-05\n",
            "Iter 003500 | Loss: 1.696e-05 | Loss_u: 1.020e-06| Loss_f: 1.594e-05\n",
            "Iter 003600 | Loss: 1.593e-05 | Loss_u: 1.056e-06| Loss_f: 1.487e-05\n",
            "Iter 003700 | Loss: 1.488e-05 | Loss_u: 7.985e-07| Loss_f: 1.408e-05\n",
            "Iter 003800 | Loss: 1.406e-05 | Loss_u: 7.686e-07| Loss_f: 1.329e-05\n",
            "Iter 003900 | Loss: 1.344e-05 | Loss_u: 7.428e-07| Loss_f: 1.269e-05\n",
            "Iter 004000 | Loss: 1.345e-05 | Loss_u: 7.534e-07| Loss_f: 1.270e-05\n",
            "Iter 004100 | Loss: 1.209e-05 | Loss_u: 8.843e-07| Loss_f: 1.120e-05\n",
            "Iter 004200 | Loss: 1.146e-05 | Loss_u: 8.538e-07| Loss_f: 1.061e-05\n",
            "Iter 004300 | Loss: 1.087e-05 | Loss_u: 7.965e-07| Loss_f: 1.008e-05\n",
            "Iter 004400 | Loss: 1.007e-05 | Loss_u: 6.468e-07| Loss_f: 9.428e-06\n",
            "Iter 004500 | Loss: 9.423e-06 | Loss_u: 7.386e-07| Loss_f: 8.684e-06\n",
            "Iter 004600 | Loss: 8.732e-06 | Loss_u: 8.107e-07| Loss_f: 7.921e-06\n",
            "Iter 004700 | Loss: 8.165e-06 | Loss_u: 7.766e-07| Loss_f: 7.389e-06\n",
            "Iter 004800 | Loss: 7.446e-06 | Loss_u: 6.066e-07| Loss_f: 6.839e-06\n",
            "Iter 004900 | Loss: 6.778e-06 | Loss_u: 5.743e-07| Loss_f: 6.204e-06\n",
            "Iter 005000 | Loss: 6.515e-06 | Loss_u: 5.536e-07| Loss_f: 5.961e-06\n",
            "Iter 005100 | Loss: 6.297e-06 | Loss_u: 5.436e-07| Loss_f: 5.753e-06\n",
            "Iter 005200 | Loss: 6.034e-06 | Loss_u: 4.748e-07| Loss_f: 5.559e-06\n",
            "Iter 005300 | Loss: 5.665e-06 | Loss_u: 4.461e-07| Loss_f: 5.219e-06\n",
            "Iter 005400 | Loss: 5.211e-06 | Loss_u: 4.435e-07| Loss_f: 4.767e-06\n",
            "Iter 005500 | Loss: 4.981e-06 | Loss_u: 4.262e-07| Loss_f: 4.554e-06\n",
            "Iter 005600 | Loss: 4.731e-06 | Loss_u: 4.244e-07| Loss_f: 4.307e-06\n",
            "Iter 005700 | Loss: 4.526e-06 | Loss_u: 3.787e-07| Loss_f: 4.147e-06\n",
            "Iter 005800 | Loss: 4.319e-06 | Loss_u: 3.462e-07| Loss_f: 3.973e-06\n",
            "Iter 005900 | Loss: 4.129e-06 | Loss_u: 3.357e-07| Loss_f: 3.793e-06\n",
            "Iter 006000 | Loss: 3.931e-06 | Loss_u: 3.349e-07| Loss_f: 3.596e-06\n",
            "Iter 006100 | Loss: 3.768e-06 | Loss_u: 3.472e-07| Loss_f: 3.421e-06\n",
            "Iter 006200 | Loss: 3.632e-06 | Loss_u: 3.370e-07| Loss_f: 3.295e-06\n",
            "Iter 006300 | Loss: 3.656e-06 | Loss_u: 3.678e-07| Loss_f: 3.288e-06\n"
          ]
        }
      ],
      "source": [
        "model = PhysicsInformedNN(X_u_train, u_train, X_f_train, layers, lb, ub, nu)\n",
        "  \n",
        "model.train()"
      ]
    },
    {
      "cell_type": "markdown",
      "source": [
        "Then, let's test the prediction of the PINN solution with respect to a standard numerical solution."
      ],
      "metadata": {
        "id": "42OhtZ7I_oea"
      }
    },
    {
      "cell_type": "code",
      "execution_count": null,
      "metadata": {
        "colab": {
          "base_uri": "https://localhost:8080/"
        },
        "id": "Qhp4N0_e62hN",
        "outputId": "a49c794b-8445-403e-f21d-8791bdceb094"
      },
      "outputs": [
        {
          "output_type": "stream",
          "name": "stdout",
          "text": [
            "Error u: 1.192017e-01\n"
          ]
        }
      ],
      "source": [
        "u_pred, f_pred = model.predict(X_star)\n",
        "\n",
        "error_u = np.linalg.norm(u_star-u_pred,2)/np.linalg.norm(u_star,2)\n",
        "print('Error u: %e' % (error_u))                     \n",
        "\n",
        "U_pred = griddata(X_star, u_pred.flatten(), (X, T), method='cubic')\n",
        "Error = np.abs(Exact - U_pred)"
      ]
    },
    {
      "cell_type": "markdown",
      "metadata": {
        "id": "4Y3lkM8l62hN"
      },
      "source": [
        "Let us plot the true solution with respect to the PINN prediction."
      ]
    },
    {
      "cell_type": "code",
      "execution_count": null,
      "metadata": {
        "colab": {
          "base_uri": "https://localhost:8080/",
          "height": 278
        },
        "id": "jeCs4MC762hO",
        "outputId": "75379800-7178-490a-bf77-006ebe5adad0"
      },
      "outputs": [
        {
          "output_type": "display_data",
          "data": {
            "text/plain": [
              "<Figure size 1008x720 with 3 Axes>"
            ],
            "image/png": "[encoded data removed]"
          },
          "metadata": {
            "needs_background": "light"
          }
        }
      ],
      "source": [
        "####### Row 1: u(t,x) slices ################## \n",
        "\n",
        "\"\"\" The aesthetic setting has changed. \"\"\"\n",
        "\n",
        "fig = plt.figure(figsize=(14, 10))\n",
        "ax = fig.add_subplot(111)\n",
        "\n",
        "gs1 = gridspec.GridSpec(1, 3)\n",
        "gs1.update(top=1-1.0/3.0-0.1, bottom=1.0-2.0/3.0, left=0.1, right=0.9, wspace=0.5)\n",
        "\n",
        "ax = plt.subplot(gs1[0, 0])\n",
        "ax.plot(x,Exact[25,:], 'b-', linewidth = 2, label = 'Exact')       \n",
        "ax.plot(x,U_pred[25,:], 'r--', linewidth = 2, label = 'Prediction')\n",
        "ax.set_xlabel('$x$')\n",
        "ax.set_ylabel('$u(t,x)$')    \n",
        "ax.set_title('$t = 0.25$', fontsize = 15)\n",
        "ax.axis('square')\n",
        "ax.set_xlim([-1.1,1.1])\n",
        "ax.set_ylim([-1.1,1.1])\n",
        "\n",
        "for item in ([ax.title, ax.xaxis.label, ax.yaxis.label] +\n",
        "             ax.get_xticklabels() + ax.get_yticklabels()):\n",
        "    item.set_fontsize(15)\n",
        "\n",
        "ax = plt.subplot(gs1[0, 1])\n",
        "ax.plot(x,Exact[50,:], 'b-', linewidth = 2, label = 'Exact')       \n",
        "ax.plot(x,U_pred[50,:], 'r--', linewidth = 2, label = 'Prediction')\n",
        "ax.set_xlabel('$x$')\n",
        "ax.set_ylabel('$u(t,x)$')\n",
        "ax.axis('square')\n",
        "ax.set_xlim([-1.1,1.1])\n",
        "ax.set_ylim([-1.1,1.1])\n",
        "ax.set_title('$t = 0.50$', fontsize = 15)\n",
        "ax.legend(\n",
        "    loc='upper center', \n",
        "    bbox_to_anchor=(0.5, -0.15), \n",
        "    ncol=5, \n",
        "    frameon=False, \n",
        "    prop={'size': 15}\n",
        ")\n",
        "\n",
        "for item in ([ax.title, ax.xaxis.label, ax.yaxis.label] +\n",
        "             ax.get_xticklabels() + ax.get_yticklabels()):\n",
        "    item.set_fontsize(15)\n",
        "\n",
        "ax = plt.subplot(gs1[0, 2])\n",
        "ax.plot(x,Exact[75,:], 'b-', linewidth = 2, label = 'Exact')       \n",
        "ax.plot(x,U_pred[75,:], 'r--', linewidth = 2, label = 'Prediction')\n",
        "ax.set_xlabel('$x$')\n",
        "ax.set_ylabel('$u(t,x)$')\n",
        "ax.axis('square')\n",
        "ax.set_xlim([-1.1,1.1])\n",
        "ax.set_ylim([-1.1,1.1])    \n",
        "ax.set_title('$t = 0.75$', fontsize = 15)\n",
        "\n",
        "for item in ([ax.title, ax.xaxis.label, ax.yaxis.label] +\n",
        "             ax.get_xticklabels() + ax.get_yticklabels()):\n",
        "    item.set_fontsize(15)\n",
        "\n",
        "plt.show()"
      ]
    }
  ],
  "metadata": {
    "kernelspec": {
      "display_name": "Python 3",
      "language": "python",
      "name": "python3"
    },
    "language_info": {
      "codemirror_mode": {
        "name": "ipython",
        "version": 3
      },
      "file_extension": ".py",
      "mimetype": "text/x-python",
      "name": "python",
      "nbconvert_exporter": "python",
      "pygments_lexer": "ipython3",
      "version": "3.6.9"
    },
    "colab": {
      "provenance": [],
      "collapsed_sections": [],
      "include_colab_link": true
    },
    "accelerator": "GPU"
  },
  "nbformat": 4,
  "nbformat_minor": 0
}