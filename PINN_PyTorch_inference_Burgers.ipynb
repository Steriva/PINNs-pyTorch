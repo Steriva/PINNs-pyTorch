{
  "cells": [
    {
      "cell_type": "markdown",
      "metadata": {
        "id": "view-in-github",
        "colab_type": "text"
      },
      "source": [
        "<a href=\"https://colab.research.google.com/github/Steriva/PINNs-pyTorch/blob/master/PINN_PyTorch_inference_Burgers.ipynb\" target=\"_parent\"><img src=\"https://colab.research.google.com/assets/colab-badge.svg\" alt=\"Open In Colab\"/></a>"
      ]
    },
    {
      "cell_type": "markdown",
      "metadata": {
        "id": "t7OPpVnp62hB"
      },
      "source": [
        "# Physics-Informed Neural Network for the Burgers Equation\n",
        "In this notebook, we illustrate physics informed neural networks (PINNs) to solve partial differential equations (PDEs) as proposed in\n",
        "\n",
        "**Original Work**: *Maziar Raissi, Paris Perdikaris, and George Em Karniadakis*\n",
        "\n",
        "**Github Repo** : https://github.com/maziarraissi/PINNs and https://github.com/jayroxis/PINNs\n",
        "\n",
        "The differential problem studied is the Burgers equation ($\\nu\\in\\mathbb{R}$):\n",
        "$$\n",
        "\\begin{aligned}\n",
        "    \\partial_t u + u \\, \\partial_x u - \\nu \\, \\partial_{xx} u &= 0, \\quad &&\\quad (t,x) \\in (0,1] \\times (-1,1),\\\\\n",
        "   u(0,x) &= - \\sin(\\pi \\, x),                 \\quad &&\\quad x \\in [-1,1],\\\\\n",
        "   u(t,-1) = u(t,1) &= 0,                      \\quad &&\\quad t \\in (0,1].\n",
        "\\end{aligned}\n",
        "$$\n"
      ]
    },
    {
      "cell_type": "markdown",
      "metadata": {
        "id": "64X_KjCA62hG"
      },
      "source": [
        "## Libraries and Dependencies\n",
        "At first the libraries are loaded."
      ]
    },
    {
      "cell_type": "code",
      "source": [
        "!pip install pyDOE"
      ],
      "metadata": {
        "id": "m9Y_9IDk7Jwz"
      },
      "execution_count": null,
      "outputs": []
    },
    {
      "cell_type": "code",
      "execution_count": 1,
      "metadata": {
        "id": "O_CBJiEi62hG"
      },
      "outputs": [],
      "source": [
        "import torch\n",
        "from collections import OrderedDict\n",
        "\n",
        "from pyDOE import lhs\n",
        "import numpy as np\n",
        "import matplotlib.pyplot as plt\n",
        "import scipy.io\n",
        "from scipy.interpolate import griddata\n",
        "from mpl_toolkits.axes_grid1 import make_axes_locatable\n",
        "import matplotlib.gridspec as gridspec\n",
        "import time\n",
        "\n",
        "# set seed for reproducability\n",
        "np.random.seed(1234)\n",
        "\n",
        "# CUDA support \n",
        "if torch.cuda.is_available():\n",
        "    device = torch.device('cuda')\n",
        "else:\n",
        "    device = torch.device('cpu')"
      ]
    },
    {
      "cell_type": "markdown",
      "metadata": {
        "id": "gdL2IzFC62hI"
      },
      "source": [
        "## Physics-informed Neural Networks\n",
        "The Neural Network topology must be defined: the input for the initialisation of this class is *layers*, a list with the dimension of each layer in the net. In this case all layers are activated with a *tanh* function. The network topology definition is carried out using a dictionary."
      ]
    },
    {
      "cell_type": "code",
      "execution_count": 2,
      "metadata": {
        "id": "CKucS9Xb62hI"
      },
      "outputs": [],
      "source": [
        "# the deep neural network\n",
        "class DNN(torch.nn.Module):\n",
        "    def __init__(self, layers):\n",
        "        super(DNN, self).__init__()\n",
        "        \n",
        "        # parameters\n",
        "        self.depth = len(layers) - 1\n",
        "        \n",
        "        # set up layer order dict\n",
        "        self.activation = torch.nn.Tanh\n",
        "        \n",
        "        layer_list = list()\n",
        "        for i in range(self.depth - 1): \n",
        "            layer_list.append(\n",
        "                ('layer_%d' % i, torch.nn.Linear(layers[i], layers[i+1]))\n",
        "            )\n",
        "            layer_list.append(('activation_%d' % i, self.activation()))\n",
        "            \n",
        "        layer_list.append(\n",
        "            ('layer_%d' % (self.depth - 1), torch.nn.Linear(layers[-2], layers[-1]))\n",
        "        )\n",
        "        layerDict = OrderedDict(layer_list)\n",
        "        \n",
        "        # deploy layers\n",
        "        self.layers = torch.nn.Sequential(layerDict)\n",
        "        \n",
        "    def forward(self, x):\n",
        "        out = self.layers(x)\n",
        "        return out"
      ]
    },
    {
      "cell_type": "markdown",
      "source": [
        "Then, the PINN class is defined which is used for training and prediction. The input consists of:\n",
        "- *X_u*: the time instants for the BC and the points for the IC\n",
        "- *u*: values of the solution at *X_u*\n",
        "- *X_f*: points in space-time to compute the residual and the required derivatives\n",
        "- *layers*: list with the number of neurons per each layer\n",
        "- *lb, ub*: lower and upper bound for the input (these are vectors of 2 dim, space+time)\n",
        "- *nu*: viscosity value"
      ],
      "metadata": {
        "id": "s0RtYFJ98l1O"
      }
    },
    {
      "cell_type": "code",
      "execution_count": 14,
      "metadata": {
        "id": "cYbykFZm62hJ"
      },
      "outputs": [],
      "source": [
        "# the physics-guided neural network\n",
        "class PhysicsInformedNN():\n",
        "    def __init__(self, X_u, u, X_f, layers, lb, ub, nu):\n",
        "        \n",
        "        # boundary conditions\n",
        "        self.lb = torch.tensor(lb).float().to(device)\n",
        "        self.ub = torch.tensor(ub).float().to(device)\n",
        "        \n",
        "        # data\n",
        "        self.x_u = torch.tensor(X_u[:, 0:1], requires_grad=True).float().to(device)\n",
        "        self.t_u = torch.tensor(X_u[:, 1:2], requires_grad=True).float().to(device)\n",
        "        self.x_f = torch.tensor(X_f[:, 0:1], requires_grad=True).float().to(device)\n",
        "        self.t_f = torch.tensor(X_f[:, 1:2], requires_grad=True).float().to(device)\n",
        "        self.u = torch.tensor(u).float().to(device)\n",
        "        \n",
        "        self.layers = layers\n",
        "        self.nu = nu\n",
        "        \n",
        "        # deep neural networks\n",
        "        self.dnn = DNN(layers).to(device)\n",
        "        \n",
        "        # optimizers: using the same settings\n",
        "        self.optimizer = torch.optim.LBFGS(\n",
        "            self.dnn.parameters(), \n",
        "            lr=1.0, \n",
        "            max_iter=50000, \n",
        "            max_eval=50000, \n",
        "            history_size=50,\n",
        "            tolerance_grad=1e-5, \n",
        "            tolerance_change=1.0 * np.finfo(float).eps,\n",
        "            line_search_fn=\"strong_wolfe\"      \n",
        "        )\n",
        "\n",
        "        # Adam optimizer example\n",
        "        self.optimizer_Adam = torch.optim.Adam(self.dnn.parameters())\n",
        "        \n",
        "        self.iter = 0\n",
        "        \n",
        "    def net_u(self, x, t):  \n",
        "        u = self.dnn(torch.cat([x, t], dim=1))\n",
        "        return u\n",
        "    \n",
        "    def net_f(self, x, t):\n",
        "        \"\"\" The pytorch autograd version of calculating residual \"\"\"\n",
        "        u = self.net_u(x, t)\n",
        "        \n",
        "        u_t = torch.autograd.grad(\n",
        "            u, t, \n",
        "            grad_outputs=torch.ones_like(u),\n",
        "            retain_graph=True,\n",
        "            create_graph=True\n",
        "        )[0]\n",
        "        u_x = torch.autograd.grad(\n",
        "            u, x, \n",
        "            grad_outputs=torch.ones_like(u),\n",
        "            retain_graph=True,\n",
        "            create_graph=True\n",
        "        )[0]\n",
        "        u_xx = torch.autograd.grad(\n",
        "            u_x, x, \n",
        "            grad_outputs=torch.ones_like(u_x),\n",
        "            retain_graph=True,\n",
        "            create_graph=True\n",
        "        )[0]\n",
        "        \n",
        "        f = u_t + u * u_x - self.nu * u_xx\n",
        "        return f\n",
        "    \n",
        "    def loss_func(self):\n",
        "        self.optimizer.zero_grad()\n",
        "        \n",
        "        u_pred = self.net_u(self.x_u, self.t_u)\n",
        "        f_pred = self.net_f(self.x_f, self.t_f)\n",
        "        loss_u = torch.mean((self.u - u_pred) ** 2)\n",
        "        loss_f = torch.mean(f_pred ** 2)\n",
        "        \n",
        "        loss = loss_u + loss_f\n",
        "        \n",
        "        loss.backward()\n",
        "        self.iter += 1\n",
        "        if self.iter % 100 == 0:\n",
        "            print(f'Iter {self.iter+0:06} | Loss: {loss.item():.3e} | Loss_u: {loss_u.item():.3e}| Loss_f: {loss_f.item():.3e}')\n",
        "        return loss\n",
        "    \n",
        "    def train(self):\n",
        "        self.dnn.train()\n",
        "                \n",
        "        # Backward and optimize\n",
        "        self.optimizer.step(self.loss_func)\n",
        "\n",
        "    def trainAdam(self, epochs):\n",
        "      for epoch in range(epochs):\n",
        "        self.optimizer_Adam.zero_grad()\n",
        "        # BC prediction\n",
        "        u_pred = self.net_u(self.x_u, self.t_u)\n",
        "        # Residual prediction\n",
        "        f_pred = self.net_f(self.x_f, self.t_f)\n",
        "        # Compute loss function\n",
        "        loss_u = torch.mean((self.u - u_pred) ** 2)\n",
        "        loss_f = torch.mean(f_pred ** 2)\n",
        "        loss = loss_u + loss_f\n",
        "\n",
        "        loss.backward()\n",
        "        self.optimizer_Adam.step()\n",
        "        if epoch % 500 == 0:\n",
        "            print(f'Iter {epoch+0:06} | Loss: {loss.item():.3e} | Loss_u: {loss_u.item():.3e}| Loss_f: {loss_f.item():.3e}')\n",
        "       \n",
        "\n",
        "    def predict(self, X):\n",
        "        x = torch.tensor(X[:, 0:1], requires_grad=True).float().to(device)\n",
        "        t = torch.tensor(X[:, 1:2], requires_grad=True).float().to(device)\n",
        "\n",
        "        self.dnn.eval()\n",
        "        u = self.net_u(x, t)\n",
        "        f = self.net_f(x, t)\n",
        "        u = u.detach().cpu().numpy()\n",
        "        f = f.detach().cpu().numpy()\n",
        "        return u, f"
      ]
    },
    {
      "cell_type": "markdown",
      "metadata": {
        "id": "ZFg7eJxg62hK"
      },
      "source": [
        "## Application for prediction: Burgers equation\n",
        "Let us consider the viscosity equal to $\\nu = \\frac{0.01}{\\pi}$."
      ]
    },
    {
      "cell_type": "code",
      "execution_count": 15,
      "metadata": {
        "id": "HgRCG3Tr62hL"
      },
      "outputs": [],
      "source": [
        "nu = 0.01/np.pi\n",
        "noise = 0.0        \n",
        "\n",
        "N_u = 100\n",
        "N_f = 10000\n",
        "layers = [2, 20, 20, 20, 20, 20, 20, 20, 20, 1]\n",
        "\n",
        "data = scipy.io.loadmat('burgers_shock.mat')\n",
        "\n",
        "t = data['t'].flatten()[:,None]\n",
        "x = data['x'].flatten()[:,None]\n",
        "Exact = np.real(data['usol']).T\n",
        "\n",
        "X, T = np.meshgrid(x,t)\n",
        "\n",
        "X_star = np.hstack((X.flatten()[:,None], T.flatten()[:,None]))\n",
        "u_star = Exact.flatten()[:,None]              \n",
        "\n",
        "# Doman bounds\n",
        "lb = X_star.min(0)\n",
        "ub = X_star.max(0)    \n",
        "\n",
        "xx1 = np.hstack((X[0:1,:].T, T[0:1,:].T))\n",
        "uu1 = Exact[0:1,:].T\n",
        "xx2 = np.hstack((X[:,0:1], T[:,0:1]))\n",
        "uu2 = Exact[:,0:1]\n",
        "xx3 = np.hstack((X[:,-1:], T[:,-1:]))\n",
        "uu3 = Exact[:,-1:]\n",
        "\n",
        "X_u_train = np.vstack([xx1, xx2, xx3])\n",
        "X_f_train = lb + (ub-lb)*lhs(2, N_f)\n",
        "X_f_train = np.vstack((X_f_train, X_u_train))\n",
        "u_train = np.vstack([uu1, uu2, uu3])\n",
        "\n",
        "idx = np.random.choice(X_u_train.shape[0], N_u, replace=False)\n",
        "X_u_train = X_u_train[idx, :]\n",
        "u_train = u_train[idx,:]"
      ]
    },
    {
      "cell_type": "markdown",
      "metadata": {
        "id": "WuohWSWV62hM"
      },
      "source": [
        "### Training\n",
        "Let us train the model using L-BFGS."
      ]
    },
    {
      "cell_type": "code",
      "execution_count": 16,
      "metadata": {
        "colab": {
          "base_uri": "https://localhost:8080/"
        },
        "id": "XKFRsuIW62hM",
        "outputId": "efd9bcda-7519-4aa8-cd0f-c04d1f5b0c85"
      },
      "outputs": [
        {
          "output_type": "stream",
          "name": "stdout",
          "text": [
            "Iter 000000 | Loss: 2.756e-01 | Loss_u: 2.755e-01| Loss_f: 5.017e-05\n",
            "Iter 000500 | Loss: 4.656e-02 | Loss_u: 3.370e-02| Loss_f: 1.285e-02\n",
            "Iter 001000 | Loss: 1.838e-02 | Loss_u: 1.191e-02| Loss_f: 6.466e-03\n",
            "Iter 001500 | Loss: 7.240e-03 | Loss_u: 3.708e-03| Loss_f: 3.532e-03\n",
            "Iter 002000 | Loss: 4.262e-03 | Loss_u: 1.808e-03| Loss_f: 2.454e-03\n",
            "Iter 002500 | Loss: 1.786e-02 | Loss_u: 1.415e-03| Loss_f: 1.645e-02\n",
            "Iter 003000 | Loss: 2.373e-03 | Loss_u: 8.731e-04| Loss_f: 1.500e-03\n",
            "Iter 003500 | Loss: 1.858e-03 | Loss_u: 6.002e-04| Loss_f: 1.258e-03\n",
            "Iter 004000 | Loss: 1.751e-03 | Loss_u: 4.845e-04| Loss_f: 1.266e-03\n",
            "Iter 004500 | Loss: 1.267e-03 | Loss_u: 3.794e-04| Loss_f: 8.876e-04\n",
            "Iter 005000 | Loss: 1.234e-03 | Loss_u: 3.598e-04| Loss_f: 8.744e-04\n",
            "Iter 005500 | Loss: 9.867e-04 | Loss_u: 2.589e-04| Loss_f: 7.278e-04\n",
            "Iter 006000 | Loss: 1.206e-03 | Loss_u: 4.805e-04| Loss_f: 7.259e-04\n",
            "Iter 006500 | Loss: 7.699e-04 | Loss_u: 2.025e-04| Loss_f: 5.674e-04\n",
            "Iter 007000 | Loss: 8.436e-04 | Loss_u: 2.360e-04| Loss_f: 6.076e-04\n",
            "Iter 007500 | Loss: 1.491e-03 | Loss_u: 3.183e-04| Loss_f: 1.173e-03\n",
            "Iter 008000 | Loss: 1.824e-02 | Loss_u: 1.448e-03| Loss_f: 1.679e-02\n",
            "Iter 008500 | Loss: 5.316e-04 | Loss_u: 1.373e-04| Loss_f: 3.944e-04\n",
            "Iter 009000 | Loss: 5.424e-04 | Loss_u: 1.664e-04| Loss_f: 3.760e-04\n",
            "Iter 009500 | Loss: 4.558e-04 | Loss_u: 1.149e-04| Loss_f: 3.408e-04\n"
          ]
        }
      ],
      "source": [
        "model = PhysicsInformedNN(X_u_train, u_train, X_f_train, layers, lb, ub, nu)\n",
        "  \n",
        "model.train()\n",
        "model.trainAdam(10000)"
      ]
    },
    {
      "cell_type": "markdown",
      "source": [
        "Then, let's test the prediction of the PINN solution with respect to a standard numerical solution."
      ],
      "metadata": {
        "id": "42OhtZ7I_oea"
      }
    },
    {
      "cell_type": "code",
      "execution_count": 17,
      "metadata": {
        "colab": {
          "base_uri": "https://localhost:8080/"
        },
        "id": "Qhp4N0_e62hN",
        "outputId": "f96699de-ba3d-45de-ba64-54cb8b8133b9"
      },
      "outputs": [
        {
          "output_type": "stream",
          "name": "stdout",
          "text": [
            "Error u: 2.794994e-02\n"
          ]
        }
      ],
      "source": [
        "u_pred, f_pred = model.predict(X_star)\n",
        "\n",
        "error_u = np.linalg.norm(u_star-u_pred,2)/np.linalg.norm(u_star,2)\n",
        "print('Error u: %e' % (error_u))                     \n",
        "\n",
        "U_pred = griddata(X_star, u_pred.flatten(), (X, T), method='cubic')\n",
        "Error = np.abs(Exact - U_pred)"
      ]
    },
    {
      "cell_type": "markdown",
      "metadata": {
        "id": "4Y3lkM8l62hN"
      },
      "source": [
        "Let us plot the true solution with respect to the PINN prediction."
      ]
    },
    {
      "cell_type": "code",
      "execution_count": 18,
      "metadata": {
        "colab": {
          "base_uri": "https://localhost:8080/",
          "height": 278
        },
        "id": "jeCs4MC762hO",
        "outputId": "c73cb9f4-083e-4b7b-cd2e-cbee8d8bd48c"
      },
      "outputs": [
        {
          "output_type": "display_data",
          "data": {
            "text/plain": [
              "<Figure size 1008x720 with 3 Axes>"
            ],
            "image/png": "[encoded data removed]"
          },
          "metadata": {
            "needs_background": "light"
          }
        }
      ],
      "source": [
        "####### Row 1: u(t,x) slices ################## \n",
        "\n",
        "\"\"\" The aesthetic setting has changed. \"\"\"\n",
        "\n",
        "fig = plt.figure(figsize=(14, 10))\n",
        "ax = fig.add_subplot(111)\n",
        "\n",
        "gs1 = gridspec.GridSpec(1, 3)\n",
        "gs1.update(top=1-1.0/3.0-0.1, bottom=1.0-2.0/3.0, left=0.1, right=0.9, wspace=0.5)\n",
        "\n",
        "ax = plt.subplot(gs1[0, 0])\n",
        "ax.plot(x,Exact[25,:], 'b-', linewidth = 2, label = 'Exact')       \n",
        "ax.plot(x,U_pred[25,:], 'r--', linewidth = 2, label = 'Prediction')\n",
        "ax.set_xlabel('$x$')\n",
        "ax.set_ylabel('$u(t,x)$')    \n",
        "ax.set_title('$t = 0.25$', fontsize = 15)\n",
        "ax.axis('square')\n",
        "ax.set_xlim([-1.1,1.1])\n",
        "ax.set_ylim([-1.1,1.1])\n",
        "\n",
        "for item in ([ax.title, ax.xaxis.label, ax.yaxis.label] +\n",
        "             ax.get_xticklabels() + ax.get_yticklabels()):\n",
        "    item.set_fontsize(15)\n",
        "\n",
        "ax = plt.subplot(gs1[0, 1])\n",
        "ax.plot(x,Exact[50,:], 'b-', linewidth = 2, label = 'Exact')       \n",
        "ax.plot(x,U_pred[50,:], 'r--', linewidth = 2, label = 'Prediction')\n",
        "ax.set_xlabel('$x$')\n",
        "ax.set_ylabel('$u(t,x)$')\n",
        "ax.axis('square')\n",
        "ax.set_xlim([-1.1,1.1])\n",
        "ax.set_ylim([-1.1,1.1])\n",
        "ax.set_title('$t = 0.50$', fontsize = 15)\n",
        "ax.legend(\n",
        "    loc='upper center', \n",
        "    bbox_to_anchor=(0.5, -0.15), \n",
        "    ncol=5, \n",
        "    frameon=False, \n",
        "    prop={'size': 15}\n",
        ")\n",
        "\n",
        "for item in ([ax.title, ax.xaxis.label, ax.yaxis.label] +\n",
        "             ax.get_xticklabels() + ax.get_yticklabels()):\n",
        "    item.set_fontsize(15)\n",
        "\n",
        "ax = plt.subplot(gs1[0, 2])\n",
        "ax.plot(x,Exact[75,:], 'b-', linewidth = 2, label = 'Exact')       \n",
        "ax.plot(x,U_pred[75,:], 'r--', linewidth = 2, label = 'Prediction')\n",
        "ax.set_xlabel('$x$')\n",
        "ax.set_ylabel('$u(t,x)$')\n",
        "ax.axis('square')\n",
        "ax.set_xlim([-1.1,1.1])\n",
        "ax.set_ylim([-1.1,1.1])    \n",
        "ax.set_title('$t = 0.75$', fontsize = 15)\n",
        "\n",
        "for item in ([ax.title, ax.xaxis.label, ax.yaxis.label] +\n",
        "             ax.get_xticklabels() + ax.get_yticklabels()):\n",
        "    item.set_fontsize(15)\n",
        "\n",
        "plt.show()"
      ]
    }
  ],
  "metadata": {
    "kernelspec": {
      "display_name": "Python 3",
      "language": "python",
      "name": "python3"
    },
    "language_info": {
      "codemirror_mode": {
        "name": "ipython",
        "version": 3
      },
      "file_extension": ".py",
      "mimetype": "text/x-python",
      "name": "python",
      "nbconvert_exporter": "python",
      "pygments_lexer": "ipython3",
      "version": "3.6.9"
    },
    "colab": {
      "provenance": [],
      "collapsed_sections": [],
      "include_colab_link": true
    },
    "accelerator": "GPU"
  },
  "nbformat": 4,
  "nbformat_minor": 0
}