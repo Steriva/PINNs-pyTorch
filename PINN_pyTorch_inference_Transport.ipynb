{
  "nbformat": 4,
  "nbformat_minor": 0,
  "metadata": {
    "colab": {
      "provenance": [],
      "collapsed_sections": [],
      "authorship_tag": "ABX9TyPNCJtRtBR2WKpX+fUbIc1o",
      "include_colab_link": true
    },
    "kernelspec": {
      "name": "python3",
      "display_name": "Python 3"
    },
    "language_info": {
      "name": "python"
    },
    "widgets": {
      "application/vnd.jupyter.widget-state+json": {
        "457e1907bb5c44b68d4d5529b9ccbd79": {
          "model_module": "@jupyter-widgets/controls",
          "model_name": "HBoxModel",
          "model_module_version": "1.5.0",
          "state": {
            "_dom_classes": [],
            "_model_module": "@jupyter-widgets/controls",
            "_model_module_version": "1.5.0",
            "_model_name": "HBoxModel",
            "_view_count": null,
            "_view_module": "@jupyter-widgets/controls",
            "_view_module_version": "1.5.0",
            "_view_name": "HBoxView",
            "box_style": "",
            "children": [
              "IPY_MODEL_a820ed4a04ae4d0aaf6184987db2fb89",
              "IPY_MODEL_299ae1cfd06a4104bc3762d04ac11da6",
              "IPY_MODEL_bfbdec5820d741bb9736e3764abdb936"
            ],
            "layout": "IPY_MODEL_1bb79d58c77348cea53847c11a444830"
          }
        },
        "a820ed4a04ae4d0aaf6184987db2fb89": {
          "model_module": "@jupyter-widgets/controls",
          "model_name": "HTMLModel",
          "model_module_version": "1.5.0",
          "state": {
            "_dom_classes": [],
            "_model_module": "@jupyter-widgets/controls",
            "_model_module_version": "1.5.0",
            "_model_name": "HTMLModel",
            "_view_count": null,
            "_view_module": "@jupyter-widgets/controls",
            "_view_module_version": "1.5.0",
            "_view_name": "HTMLView",
            "description": "",
            "description_tooltip": null,
            "layout": "IPY_MODEL_608458bae1ec4d5e8a90dd3cff67fd8b",
            "placeholder": "​",
            "style": "IPY_MODEL_9d994b11af29441b9ab9d3c80a0456d8",
            "value": "100%"
          }
        },
        "299ae1cfd06a4104bc3762d04ac11da6": {
          "model_module": "@jupyter-widgets/controls",
          "model_name": "FloatProgressModel",
          "model_module_version": "1.5.0",
          "state": {
            "_dom_classes": [],
            "_model_module": "@jupyter-widgets/controls",
            "_model_module_version": "1.5.0",
            "_model_name": "FloatProgressModel",
            "_view_count": null,
            "_view_module": "@jupyter-widgets/controls",
            "_view_module_version": "1.5.0",
            "_view_name": "ProgressView",
            "bar_style": "success",
            "description": "",
            "description_tooltip": null,
            "layout": "IPY_MODEL_fc5676edcd154cfe8c6b83e5035325ff",
            "max": 1000,
            "min": 0,
            "orientation": "horizontal",
            "style": "IPY_MODEL_4dfb1c5d6ce744419be3b3450e8d0f37",
            "value": 1000
          }
        },
        "bfbdec5820d741bb9736e3764abdb936": {
          "model_module": "@jupyter-widgets/controls",
          "model_name": "HTMLModel",
          "model_module_version": "1.5.0",
          "state": {
            "_dom_classes": [],
            "_model_module": "@jupyter-widgets/controls",
            "_model_module_version": "1.5.0",
            "_model_name": "HTMLModel",
            "_view_count": null,
            "_view_module": "@jupyter-widgets/controls",
            "_view_module_version": "1.5.0",
            "_view_name": "HTMLView",
            "description": "",
            "description_tooltip": null,
            "layout": "IPY_MODEL_963f85c179034bcfab9cce99ddb7777d",
            "placeholder": "​",
            "style": "IPY_MODEL_9bbd7944e48045db8ed72b1f534c6a64",
            "value": " 1000/1000 [00:19&lt;00:00, 94.63it/s]"
          }
        },
        "1bb79d58c77348cea53847c11a444830": {
          "model_module": "@jupyter-widgets/base",
          "model_name": "LayoutModel",
          "model_module_version": "1.2.0",
          "state": {
            "_model_module": "@jupyter-widgets/base",
            "_model_module_version": "1.2.0",
            "_model_name": "LayoutModel",
            "_view_count": null,
            "_view_module": "@jupyter-widgets/base",
            "_view_module_version": "1.2.0",
            "_view_name": "LayoutView",
            "align_content": null,
            "align_items": null,
            "align_self": null,
            "border": null,
            "bottom": null,
            "display": null,
            "flex": null,
            "flex_flow": null,
            "grid_area": null,
            "grid_auto_columns": null,
            "grid_auto_flow": null,
            "grid_auto_rows": null,
            "grid_column": null,
            "grid_gap": null,
            "grid_row": null,
            "grid_template_areas": null,
            "grid_template_columns": null,
            "grid_template_rows": null,
            "height": null,
            "justify_content": null,
            "justify_items": null,
            "left": null,
            "margin": null,
            "max_height": null,
            "max_width": null,
            "min_height": null,
            "min_width": null,
            "object_fit": null,
            "object_position": null,
            "order": null,
            "overflow": null,
            "overflow_x": null,
            "overflow_y": null,
            "padding": null,
            "right": null,
            "top": null,
            "visibility": null,
            "width": null
          }
        },
        "608458bae1ec4d5e8a90dd3cff67fd8b": {
          "model_module": "@jupyter-widgets/base",
          "model_name": "LayoutModel",
          "model_module_version": "1.2.0",
          "state": {
            "_model_module": "@jupyter-widgets/base",
            "_model_module_version": "1.2.0",
            "_model_name": "LayoutModel",
            "_view_count": null,
            "_view_module": "@jupyter-widgets/base",
            "_view_module_version": "1.2.0",
            "_view_name": "LayoutView",
            "align_content": null,
            "align_items": null,
            "align_self": null,
            "border": null,
            "bottom": null,
            "display": null,
            "flex": null,
            "flex_flow": null,
            "grid_area": null,
            "grid_auto_columns": null,
            "grid_auto_flow": null,
            "grid_auto_rows": null,
            "grid_column": null,
            "grid_gap": null,
            "grid_row": null,
            "grid_template_areas": null,
            "grid_template_columns": null,
            "grid_template_rows": null,
            "height": null,
            "justify_content": null,
            "justify_items": null,
            "left": null,
            "margin": null,
            "max_height": null,
            "max_width": null,
            "min_height": null,
            "min_width": null,
            "object_fit": null,
            "object_position": null,
            "order": null,
            "overflow": null,
            "overflow_x": null,
            "overflow_y": null,
            "padding": null,
            "right": null,
            "top": null,
            "visibility": null,
            "width": null
          }
        },
        "9d994b11af29441b9ab9d3c80a0456d8": {
          "model_module": "@jupyter-widgets/controls",
          "model_name": "DescriptionStyleModel",
          "model_module_version": "1.5.0",
          "state": {
            "_model_module": "@jupyter-widgets/controls",
            "_model_module_version": "1.5.0",
            "_model_name": "DescriptionStyleModel",
            "_view_count": null,
            "_view_module": "@jupyter-widgets/base",
            "_view_module_version": "1.2.0",
            "_view_name": "StyleView",
            "description_width": ""
          }
        },
        "fc5676edcd154cfe8c6b83e5035325ff": {
          "model_module": "@jupyter-widgets/base",
          "model_name": "LayoutModel",
          "model_module_version": "1.2.0",
          "state": {
            "_model_module": "@jupyter-widgets/base",
            "_model_module_version": "1.2.0",
            "_model_name": "LayoutModel",
            "_view_count": null,
            "_view_module": "@jupyter-widgets/base",
            "_view_module_version": "1.2.0",
            "_view_name": "LayoutView",
            "align_content": null,
            "align_items": null,
            "align_self": null,
            "border": null,
            "bottom": null,
            "display": null,
            "flex": null,
            "flex_flow": null,
            "grid_area": null,
            "grid_auto_columns": null,
            "grid_auto_flow": null,
            "grid_auto_rows": null,
            "grid_column": null,
            "grid_gap": null,
            "grid_row": null,
            "grid_template_areas": null,
            "grid_template_columns": null,
            "grid_template_rows": null,
            "height": null,
            "justify_content": null,
            "justify_items": null,
            "left": null,
            "margin": null,
            "max_height": null,
            "max_width": null,
            "min_height": null,
            "min_width": null,
            "object_fit": null,
            "object_position": null,
            "order": null,
            "overflow": null,
            "overflow_x": null,
            "overflow_y": null,
            "padding": null,
            "right": null,
            "top": null,
            "visibility": null,
            "width": null
          }
        },
        "4dfb1c5d6ce744419be3b3450e8d0f37": {
          "model_module": "@jupyter-widgets/controls",
          "model_name": "ProgressStyleModel",
          "model_module_version": "1.5.0",
          "state": {
            "_model_module": "@jupyter-widgets/controls",
            "_model_module_version": "1.5.0",
            "_model_name": "ProgressStyleModel",
            "_view_count": null,
            "_view_module": "@jupyter-widgets/base",
            "_view_module_version": "1.2.0",
            "_view_name": "StyleView",
            "bar_color": null,
            "description_width": ""
          }
        },
        "963f85c179034bcfab9cce99ddb7777d": {
          "model_module": "@jupyter-widgets/base",
          "model_name": "LayoutModel",
          "model_module_version": "1.2.0",
          "state": {
            "_model_module": "@jupyter-widgets/base",
            "_model_module_version": "1.2.0",
            "_model_name": "LayoutModel",
            "_view_count": null,
            "_view_module": "@jupyter-widgets/base",
            "_view_module_version": "1.2.0",
            "_view_name": "LayoutView",
            "align_content": null,
            "align_items": null,
            "align_self": null,
            "border": null,
            "bottom": null,
            "display": null,
            "flex": null,
            "flex_flow": null,
            "grid_area": null,
            "grid_auto_columns": null,
            "grid_auto_flow": null,
            "grid_auto_rows": null,
            "grid_column": null,
            "grid_gap": null,
            "grid_row": null,
            "grid_template_areas": null,
            "grid_template_columns": null,
            "grid_template_rows": null,
            "height": null,
            "justify_content": null,
            "justify_items": null,
            "left": null,
            "margin": null,
            "max_height": null,
            "max_width": null,
            "min_height": null,
            "min_width": null,
            "object_fit": null,
            "object_position": null,
            "order": null,
            "overflow": null,
            "overflow_x": null,
            "overflow_y": null,
            "padding": null,
            "right": null,
            "top": null,
            "visibility": null,
            "width": null
          }
        },
        "9bbd7944e48045db8ed72b1f534c6a64": {
          "model_module": "@jupyter-widgets/controls",
          "model_name": "DescriptionStyleModel",
          "model_module_version": "1.5.0",
          "state": {
            "_model_module": "@jupyter-widgets/controls",
            "_model_module_version": "1.5.0",
            "_model_name": "DescriptionStyleModel",
            "_view_count": null,
            "_view_module": "@jupyter-widgets/base",
            "_view_module_version": "1.2.0",
            "_view_name": "StyleView",
            "description_width": ""
          }
        }
      }
    },
    "accelerator": "GPU"
  },
  "cells": [
    {
      "cell_type": "markdown",
      "metadata": {
        "id": "view-in-github",
        "colab_type": "text"
      },
      "source": [
        "<a href=\"https://colab.research.google.com/github/Steriva/PINNs-pyTorch/blob/master/PINN_pyTorch_inference_Transport.ipynb\" target=\"_parent\"><img src=\"https://colab.research.google.com/assets/colab-badge.svg\" alt=\"Open In Colab\"/></a>"
      ]
    },
    {
      "cell_type": "markdown",
      "metadata": {
        "id": "t7OPpVnp62hB"
      },
      "source": [
        "# Physics-Informed Neural Network for a Transport Equation\n",
        "In this notebook, we illustrate physics informed neural networks (PINNs) to solve partial differential equations (PDEs) as proposed in\n",
        "\n",
        "**Original Work**: *Maziar Raissi, Paris Perdikaris, and George Em Karniadakis*\n",
        "\n",
        "**Github Repo** : https://github.com/maziarraissi/PINNs and https://github.com/jayroxis/PINNs\n",
        "\n",
        "The differential problem studied is the Transport equation ($c\\in\\mathbb{R}$):\n",
        "\\begin{equation}\n",
        "\\left\\{\n",
        "\\begin{array}{ll}\n",
        "\\partial_t u + c \\partial_x u = 0 &  (t,x) \\in (0,2] \\times (-3,3)\\\\\n",
        "u(0,x) = u_0(x) = \\cos^4(\\pi \\, x)\\cdot \\mathcal{H}(0.5-|x|) & x \\in [-3,3]\\\\\n",
        "u(t,-3) = 0  & t \\in (0,2]\n",
        "\\end{array}\n",
        "\\right.\n",
        "\\end{equation}\n",
        "At first, the problem will be solved using a Lax-Wendroff spatial discretisation coupled with implicit Euler for time. This scheme is known to be not fully correct, since the numerical solution will have a delay with respect to the true solution.\n",
        "\n",
        "This problem has also analytical solution:\n",
        "\\begin{equation}\n",
        "u_{ex}(x,t) = u_0(x-c\\cdot t)\n",
        "\\end{equation}\n"
      ]
    },
    {
      "cell_type": "code",
      "source": [
        "!pip install pyDOE"
      ],
      "metadata": {
        "id": "mcXmX5aFeuh1"
      },
      "execution_count": null,
      "outputs": []
    },
    {
      "cell_type": "code",
      "source": [
        "import numpy as np\n",
        "import numpy.linalg as LA\n",
        "import matplotlib.pyplot as plt\n",
        "from scipy.sparse import spdiags\n",
        "from scipy.sparse import linalg as spLA\n",
        "from tqdm.auto import tqdm\n",
        "np.random.seed(1234)\n",
        "\n",
        "# Transport velocity\n",
        "c = 2.\n",
        "\n",
        "# Definition of the domain\n",
        "L = 3\n",
        "T = 2\n",
        "\n",
        "Nh = 600\n",
        "Nt = 1000\n",
        "\n",
        "# Definition of the BC and IC\n",
        "u0  = lambda x: (np.cos(np.pi * x))**4 * np.heaviside(0.5-np.abs(x), 1.)\n",
        "fun = lambda x: 0.0 * x\n",
        "inflow = lambda t: 0.0 * t\n",
        "\n",
        "# Exact solution\n",
        "def exact(x, t, c=c):\n",
        "  return u0(x - c * t)\n",
        "\n",
        "def implicitEulerSolve(L, Nh, T, Nt, c, inflow, fun, u0):\n",
        "  dx = 2 * L / Nh\n",
        "  dt = T / Nt\n",
        "\n",
        "  CFL = c * dt / dx\n",
        "\n",
        "  t = np.arange(0,  T+dt, dt)\n",
        "  x = np.arange(-L, L+dx, dx)\n",
        "  \n",
        "  u = np.zeros((Nt+1, Nh+1))\n",
        "  u[0, :] = u0(x)\n",
        "\n",
        "  # Assembling matrix A\n",
        "  e = np.array([- (CFL + CFL**2) / 2 * np.ones((Nh-1)), (1+CFL**2) * np.ones((Nh-1)), (CFL - CFL**2) / 2 * np.ones((Nh-1))])\n",
        "  A = spdiags(e, np.array([-1, 0, 1]), Nh, Nh)\n",
        "  A = A.toarray()\n",
        "  A[-1,-1] = 1 + CFL\n",
        "  A[-1,-2] = -CFL\n",
        "\n",
        "  for kk in tqdm(range(Nt)):\n",
        "    F = fun(x)\n",
        "    F = dt * F[1:] + u[kk, 1:]\n",
        "    F[0] += CFL / 2. * inflow(t[kk+1])\n",
        "\n",
        "    u[kk+1, 0]  = inflow(t[kk+1])\n",
        "    u[kk+1, 1:] = LA.solve(A,F)\n",
        "\n",
        "  return x, t, u, CFL\n",
        "\n",
        "x_true, t_true, u_true, CFL = implicitEulerSolve(L, Nh, T, Nt, c, inflow, fun, u0)\n",
        "\n",
        "print('The CFL is {:.2f}'.format(CFL))"
      ],
      "metadata": {
        "colab": {
          "base_uri": "https://localhost:8080/",
          "height": 67,
          "referenced_widgets": [
            "457e1907bb5c44b68d4d5529b9ccbd79",
            "a820ed4a04ae4d0aaf6184987db2fb89",
            "299ae1cfd06a4104bc3762d04ac11da6",
            "bfbdec5820d741bb9736e3764abdb936",
            "1bb79d58c77348cea53847c11a444830",
            "608458bae1ec4d5e8a90dd3cff67fd8b",
            "9d994b11af29441b9ab9d3c80a0456d8",
            "fc5676edcd154cfe8c6b83e5035325ff",
            "4dfb1c5d6ce744419be3b3450e8d0f37",
            "963f85c179034bcfab9cce99ddb7777d",
            "9bbd7944e48045db8ed72b1f534c6a64"
          ]
        },
        "id": "UF-ZSWqKDxCD",
        "outputId": "30978be3-9f8a-4249-85ac-f1ad34497df9"
      },
      "execution_count": 3,
      "outputs": [
        {
          "output_type": "display_data",
          "data": {
            "text/plain": [
              "  0%|          | 0/1000 [00:00<?, ?it/s]"
            ],
            "application/vnd.jupyter.widget-view+json": {
              "version_major": 2,
              "version_minor": 0,
              "model_id": "457e1907bb5c44b68d4d5529b9ccbd79"
            }
          },
          "metadata": {}
        },
        {
          "output_type": "stream",
          "name": "stdout",
          "text": [
            "The CFL is 0.40\n"
          ]
        }
      ]
    },
    {
      "cell_type": "markdown",
      "source": [
        "Now, a different approach is followed in which a Physics-Informed Neural Network will be used."
      ],
      "metadata": {
        "id": "IS_uwXe3c6eO"
      }
    },
    {
      "cell_type": "code",
      "execution_count": 7,
      "metadata": {
        "id": "CKucS9Xb62hI",
        "outputId": "9f873778-8efd-4f63-fe93-e0a34a9316e0",
        "colab": {
          "base_uri": "https://localhost:8080/"
        }
      },
      "outputs": [
        {
          "output_type": "stream",
          "name": "stdout",
          "text": [
            "Training run on cuda\n"
          ]
        }
      ],
      "source": [
        "import torch\n",
        "from collections import OrderedDict\n",
        "\n",
        "# the deep neural network\n",
        "class DNN(torch.nn.Module):\n",
        "    def __init__(self, layers):\n",
        "        super(DNN, self).__init__()\n",
        "        \n",
        "        # parameters\n",
        "        self.depth = len(layers) - 1\n",
        "        \n",
        "        # set up layer order dict\n",
        "        self.activation = torch.nn.Tanh\n",
        "        \n",
        "        layer_list = list()\n",
        "        for i in range(self.depth - 1): \n",
        "            layer_list.append(\n",
        "                ('layer_%d' % i, torch.nn.Linear(layers[i], layers[i+1]))\n",
        "            )\n",
        "            layer_list.append(('activation_%d' % i, self.activation()))\n",
        "            \n",
        "        layer_list.append(\n",
        "            ('layer_%d' % (self.depth - 1), torch.nn.Linear(layers[-2], layers[-1]))\n",
        "        )\n",
        "        layerDict = OrderedDict(layer_list)\n",
        "        \n",
        "        # deploy layers\n",
        "        self.layers = torch.nn.Sequential(layerDict)\n",
        "        \n",
        "    def forward(self, x):\n",
        "        out = self.layers(x)\n",
        "        return out\n",
        "\n",
        "# CUDA support \n",
        "if torch.cuda.is_available():\n",
        "    device = torch.device('cuda')\n",
        "else:\n",
        "    device = torch.device('cpu')\n",
        "\n",
        "print('Training run on '+str(device))"
      ]
    },
    {
      "cell_type": "markdown",
      "source": [
        "Then, the PINN class is defined which is used for training and prediction. The input consists of:\n",
        "- *X_u*: the time instants for the BC and the points for the IC\n",
        "- *u*: values of the solution at *X_u*\n",
        "- *X_f*: points in space-time to compute the residual and the required derivatives\n",
        "- *layers*: list with the number of neurons per each layer\n",
        "- *lb, ub*: lower and upper bound for the input (these are vectors of 2 dim, space+time)\n",
        "- *nu*: viscosity value"
      ],
      "metadata": {
        "id": "s0RtYFJ98l1O"
      }
    },
    {
      "cell_type": "code",
      "execution_count": 8,
      "metadata": {
        "id": "cYbykFZm62hJ"
      },
      "outputs": [],
      "source": [
        "# the physics-guided neural network\n",
        "class PhysicsInformedNN():\n",
        "    def __init__(self, X_u, u, X_f, layers, lb, ub, c):\n",
        "        \n",
        "        # boundary conditions\n",
        "        self.lb = torch.tensor(lb).float().to(device)\n",
        "        self.ub = torch.tensor(ub).float().to(device)\n",
        "        \n",
        "        # data\n",
        "        self.x_u = torch.tensor(X_u[:, 0:1], requires_grad=True).float().to(device)\n",
        "        self.t_u = torch.tensor(X_u[:, 1:2], requires_grad=True).float().to(device)\n",
        "        self.x_f = torch.tensor(X_f[:, 0:1], requires_grad=True).float().to(device)\n",
        "        self.t_f = torch.tensor(X_f[:, 1:2], requires_grad=True).float().to(device)\n",
        "        self.u = torch.tensor(u).float().to(device)\n",
        "        \n",
        "        self.layers = layers\n",
        "        self.c = c\n",
        "        \n",
        "        # deep neural networks\n",
        "        self.dnn = DNN(layers).to(device)\n",
        "        \n",
        "        # optimizers: using the same settings\n",
        "        self.optimizer = torch.optim.LBFGS(\n",
        "            self.dnn.parameters(), \n",
        "            lr=1.0, \n",
        "            max_iter=50000, \n",
        "            max_eval=50000, \n",
        "            history_size=50,\n",
        "            tolerance_grad=1e-8, \n",
        "            tolerance_change=1.0 * np.finfo(float).eps,\n",
        "            line_search_fn=\"strong_wolfe\"      \n",
        "        )\n",
        "\n",
        "        # Adam optimizer example\n",
        "        # self.optimizer_Adam = torch.optim.Adam(self.dnn.parameters())\n",
        "        \n",
        "        self.iter = 0\n",
        "        \n",
        "    def net_u(self, x, t):  \n",
        "        u = self.dnn(torch.cat([x, t], dim=1))\n",
        "        return u\n",
        "    \n",
        "    def net_f(self, x, t):\n",
        "        \"\"\" The pytorch autograd version of calculating residual \"\"\"\n",
        "        u = self.net_u(x, t)\n",
        "        \n",
        "        u_t = torch.autograd.grad(\n",
        "            u, t, \n",
        "            grad_outputs=torch.ones_like(u),\n",
        "            retain_graph=True,\n",
        "            create_graph=True\n",
        "        )[0]\n",
        "        u_x = torch.autograd.grad(\n",
        "            u, x, \n",
        "            grad_outputs=torch.ones_like(u),\n",
        "            retain_graph=True,\n",
        "            create_graph=True\n",
        "        )[0]\n",
        "        \n",
        "        f = u_t + self.c * u_x\n",
        "        return f\n",
        "    \n",
        "    def loss_func(self):\n",
        "        self.optimizer.zero_grad()\n",
        "        \n",
        "        u_pred = self.net_u(self.x_u, self.t_u)\n",
        "        f_pred = self.net_f(self.x_f, self.t_f)\n",
        "        loss_u = torch.mean((self.u - u_pred) ** 2)\n",
        "        loss_f = torch.mean(f_pred ** 2)\n",
        "        \n",
        "        loss = loss_u + loss_f\n",
        "        \n",
        "        loss.backward()\n",
        "        self.iter += 1\n",
        "        if self.iter % 100 == 0:\n",
        "            print(f'Iter {self.iter+0:05} | Loss: {loss.item():.3e} | Loss_u: {loss_u.item():.3e}| Loss_f: {loss_f.item():.3e}')\n",
        "        return loss\n",
        "    \n",
        "    def train(self):\n",
        "        self.dnn.train()\n",
        "                \n",
        "        # Backward and optimize\n",
        "        self.optimizer.step(self.loss_func)\n",
        "\n",
        "    def predict(self, X):\n",
        "        x = torch.tensor(X[:, 0:1], requires_grad=True).float().to(device)\n",
        "        t = torch.tensor(X[:, 1:2], requires_grad=True).float().to(device)\n",
        "\n",
        "        self.dnn.eval()\n",
        "        u = self.net_u(x, t)\n",
        "        f = self.net_f(x, t)\n",
        "        u = u.detach().cpu().numpy()\n",
        "        f = f.detach().cpu().numpy()\n",
        "        return u, f"
      ]
    },
    {
      "cell_type": "markdown",
      "source": [
        "Now the data are prepared to be used as input for the NN training."
      ],
      "metadata": {
        "id": "8DWrQWbDeBdS"
      }
    },
    {
      "cell_type": "code",
      "source": [
        "from pyDOE import lhs\n",
        "\n",
        "N_u = 100\n",
        "N_f = 20000\n",
        "layers = [2, 20, 20, 20, 20, 20, 20, 20, 20, 1]\n",
        "\n",
        "X, T = np.meshgrid(x_true,t_true)\n",
        "\n",
        "X_star = np.hstack((X.flatten()[:,None], T.flatten()[:,None]))\n",
        "u_star = u_true.flatten()[:,None]              \n",
        "\n",
        "# Doman bounds\n",
        "lb = X_star.min(0)\n",
        "ub = X_star.max(0)    \n",
        "\n",
        "# IC\n",
        "xx1 = np.hstack((X[0:1,:].T, T[0:1,:].T))\n",
        "uu1 = u_true[0:1,:].T\n",
        "\n",
        "# BC - left\n",
        "xx2 = np.hstack((X[:,0:1], T[:,0:1]))\n",
        "uu2 = u_true[:,0:1]\n",
        "\n",
        "X_u_train = np.vstack([xx1, xx2])\n",
        "X_f_train = lb + (ub-lb)*lhs(2, N_f)\n",
        "X_f_train = np.vstack((X_f_train, X_u_train))\n",
        "u_train = np.vstack([uu1, uu2])\n",
        "\n",
        "idx = np.random.choice(X_u_train.shape[0], N_u, replace=False)\n",
        "X_u_train = X_u_train[idx, :]\n",
        "u_train = u_train[idx,:]"
      ],
      "metadata": {
        "id": "g2_Rg4YQeFql"
      },
      "execution_count": 9,
      "outputs": []
    },
    {
      "cell_type": "markdown",
      "source": [
        "Let us train the NN"
      ],
      "metadata": {
        "id": "urgUIaZ1hAgg"
      }
    },
    {
      "cell_type": "code",
      "source": [
        "model = PhysicsInformedNN(X_u_train, u_train, X_f_train, layers, lb, ub, c)\n",
        "  \n",
        "model.train()"
      ],
      "metadata": {
        "colab": {
          "base_uri": "https://localhost:8080/"
        },
        "id": "a16_GIBKhBnZ",
        "outputId": "58b7e0f7-badf-410d-e8e6-5e423d351d6f"
      },
      "execution_count": 10,
      "outputs": [
        {
          "output_type": "stream",
          "name": "stdout",
          "text": [
            "Iter 00100 | Loss: 3.082e-05 | Loss_u: 1.127e-05| Loss_f: 1.955e-05\n",
            "Iter 00200 | Loss: 1.525e-06 | Loss_u: 9.591e-07| Loss_f: 5.664e-07\n",
            "Iter 00300 | Loss: 5.423e-07 | Loss_u: 3.339e-07| Loss_f: 2.084e-07\n",
            "Iter 00400 | Loss: 2.388e-07 | Loss_u: 1.455e-07| Loss_f: 9.333e-08\n",
            "Iter 00500 | Loss: 1.618e-07 | Loss_u: 9.930e-08| Loss_f: 6.249e-08\n"
          ]
        }
      ]
    },
    {
      "cell_type": "markdown",
      "source": [
        "Then, let's test the prediction of the PINN solution with respect to a standard numerical solution."
      ],
      "metadata": {
        "id": "42OhtZ7I_oea"
      }
    },
    {
      "cell_type": "code",
      "execution_count": 11,
      "metadata": {
        "colab": {
          "base_uri": "https://localhost:8080/"
        },
        "id": "Qhp4N0_e62hN",
        "outputId": "1ea7f3da-8028-4859-b1bb-ae47f025d80b"
      },
      "outputs": [
        {
          "output_type": "stream",
          "name": "stdout",
          "text": [
            "Error u: 1.988881e-01\n"
          ]
        }
      ],
      "source": [
        "from scipy.interpolate import griddata\n",
        "u_pred, f_pred = model.predict(X_star)\n",
        "\n",
        "error_u = np.linalg.norm(u_star-u_pred,2)/np.linalg.norm(u_star,2)\n",
        "print('Error u: %e' % (error_u))                     \n",
        "\n",
        "U_pred = griddata(X_star, u_pred.flatten(), (X, T), method='cubic')\n",
        "Error = np.abs(u_true - U_pred)"
      ]
    },
    {
      "cell_type": "markdown",
      "metadata": {
        "id": "4Y3lkM8l62hN"
      },
      "source": [
        "Let us plot the true solution with respect to the PINN prediction."
      ]
    },
    {
      "cell_type": "code",
      "source": [
        "tPlot = np.sort(np.random.choice(range(int(Nt/2)), 9))\n",
        "\n",
        "LW_vs_PINN_vs_TrueFig = plt.figure( figsize = (20,18) )\n",
        "\n",
        "for ii in range(len(tPlot)):\n",
        "  plt.subplot(3,3, ii+1)\n",
        "  plt.plot(x_true, U_pred[tPlot[ii], :], 'g',  label = 'PINN')\n",
        "  plt.plot(x_true, u_true[tPlot[ii], :], 'b', linestyle='dashed', label = 'Lax-Wendroff (EI)')\n",
        "  plt.plot(x_true, exact(x_true, t_true[tPlot[ii]]), 'r', linestyle='dashdot', label = 'Exact')\n",
        "  plt.title('t = {:.2f}'.format(t_true[tPlot[ii]]))\n",
        "  plt.grid(which='major',linestyle='-')\n",
        "  plt.grid(which='minor',linestyle='--')\n",
        "\n",
        "plt.legend(loc='upper center', \n",
        "    bbox_to_anchor=(-0.7, 3.65), \n",
        "    ncol=3, \n",
        "    frameon=True, \n",
        "    prop={'size': 15})\n",
        "\n",
        "LW_vs_PINN_vs_TrueFig.savefig('LW_vs_PINN_vs_True.pdf', format='pdf', dpi=600, bbox_inches='tight')\n",
        "\n",
        "# from google.colab import files\n",
        "# files.download('LW_vs_PINN_vs_True.pdf')"
      ],
      "metadata": {
        "colab": {
          "base_uri": "https://localhost:8080/",
          "height": 1000
        },
        "id": "xK5abDkdSMXE",
        "outputId": "2444d29e-fee0-419e-bc85-ad5faf84327d"
      },
      "execution_count": 19,
      "outputs": [
        {
          "output_type": "display_data",
          "data": {
            "text/plain": [
              "<IPython.core.display.Javascript object>"
            ],
            "application/javascript": [
              "\n",
              "    async function download(id, filename, size) {\n",
              "      if (!google.colab.kernel.accessAllowed) {\n",
              "        return;\n",
              "      }\n",
              "      const div = document.createElement('div');\n",
              "      const label = document.createElement('label');\n",
              "      label.textContent = `Downloading \"${filename}\": `;\n",
              "      div.appendChild(label);\n",
              "      const progress = document.createElement('progress');\n",
              "      progress.max = size;\n",
              "      div.appendChild(progress);\n",
              "      document.body.appendChild(div);\n",
              "\n",
              "      const buffers = [];\n",
              "      let downloaded = 0;\n",
              "\n",
              "      const channel = await google.colab.kernel.comms.open(id);\n",
              "      // Send a message to notify the kernel that we're ready.\n",
              "      channel.send({})\n",
              "\n",
              "      for await (const message of channel.messages) {\n",
              "        // Send a message to notify the kernel that we're ready.\n",
              "        channel.send({})\n",
              "        if (message.buffers) {\n",
              "          for (const buffer of message.buffers) {\n",
              "            buffers.push(buffer);\n",
              "            downloaded += buffer.byteLength;\n",
              "            progress.value = downloaded;\n",
              "          }\n",
              "        }\n",
              "      }\n",
              "      const blob = new Blob(buffers, {type: 'application/binary'});\n",
              "      const a = document.createElement('a');\n",
              "      a.href = window.URL.createObjectURL(blob);\n",
              "      a.download = filename;\n",
              "      div.appendChild(a);\n",
              "      a.click();\n",
              "      div.remove();\n",
              "    }\n",
              "  "
            ]
          },
          "metadata": {}
        },
        {
          "output_type": "display_data",
          "data": {
            "text/plain": [
              "<IPython.core.display.Javascript object>"
            ],
            "application/javascript": [
              "download(\"download_d78de096-88b1-4d29-b1a7-e7710c59fdb1\", \"LW_vs_PINN_vs_True.pdf\", 30497)"
            ]
          },
          "metadata": {}
        },
        {
          "output_type": "display_data",
          "data": {
            "text/plain": [
              "<Figure size 1440x1296 with 9 Axes>"
            ],
            "image/png": "[encoded data removed]"
          },
          "metadata": {
            "needs_background": "light"
          }
        }
      ]
    }
  ]
}